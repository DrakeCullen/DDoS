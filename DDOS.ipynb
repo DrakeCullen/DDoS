{
 "cells": [
  {
   "cell_type": "code",
   "execution_count": 1,
   "metadata": {},
   "outputs": [],
   "source": [
    "import pandas as pd\n",
    "import os\n",
    "import io\n",
    "import tensorflow as tf\n",
    "from tensorflow.python.client import device_lib"
   ]
  },
  {
   "cell_type": "code",
   "execution_count": 2,
   "metadata": {},
   "outputs": [],
   "source": [
    "NetBIOS = pd.read_csv('./01-12/DrDoS_NetBIOS.csv', low_memory=False, nrows=800000)\n",
    "DNS = pd.read_csv('./01-12/DrDoS_DNS.csv', low_memory=False, nrows=800000)\n",
    "LDAP = pd.read_csv('./01-12/DrDoS_LDAP.csv', low_memory=False, nrows=800000)\n",
    "Portmap =  pd.read_csv('./03-11/Portmap.csv', low_memory=False, nrows=800000)"
   ]
  },
  {
   "cell_type": "code",
   "execution_count": 3,
   "metadata": {},
   "outputs": [],
   "source": [
    "SNMP = pd.read_csv('./01-12/DrDoS_SNMP.csv', low_memory=False, nrows=800000)\n",
    "SSDP = pd.read_csv('./01-12/DrDoS_SSDP.csv', low_memory=False, nrows=800000)\n",
    "UDP = pd.read_csv('./01-12/DrDoS_UDP.csv', low_memory=False, nrows=800000)\n",
    "SYN = pd.read_csv('./01-12/Syn.csv', low_memory=False, nrows=800000)"
   ]
  },
  {
   "cell_type": "code",
   "execution_count": 4,
   "metadata": {},
   "outputs": [],
   "source": [
    "MSSQL = pd.read_csv('./01-12/DrDoS_MSSQL.csv', low_memory=False, nrows=800000)\n",
    "NTP = pd.read_csv('./01-12/DrDoS_NTP.csv', low_memory=False, nrows=800000)\n",
    "TFTP = pd.read_csv('./01-12/TFTP.csv', low_memory=False, nrows=800000)\n",
    "UDPLag = pd.read_csv('./01-12/UDPLag.csv', low_memory=False, nrows=800000)"
   ]
  },
  {
   "cell_type": "code",
   "execution_count": 5,
   "metadata": {},
   "outputs": [],
   "source": [
    "reflective_atacks = pd.concat([NetBIOS, DNS, LDAP, Portmap, MSSQL, NTP, SNMP, SSDP, UDP, SYN, TFTP, UDPLag])"
   ]
  },
  {
   "cell_type": "code",
   "execution_count": 8,
   "metadata": {},
   "outputs": [],
   "source": [
    "old_labels = ['DrDoS_SSDP', 'DrDoS_LDAP', 'DrDoS_SNMP', 'DrDoS_NetBIOS', 'DrDoS_MSSQL', 'DrDoS_UDP', 'DrDoS_DNS', 'DrDoS_NTP']\n",
    "new_labels = ['SSDP', 'LDAP', 'SNMP', 'NetBIOS', 'MSSQL', 'UDP', 'DNS', 'NTP']\n",
    "reflective_atacks[' Label'].replace(old_labels, new_labels, inplace=True)"
   ]
  },
  {
   "cell_type": "code",
   "execution_count": 9,
   "metadata": {},
   "outputs": [
    {
     "output_type": "stream",
     "name": "stdout",
     "text": [
      "There are 88 columns and 8562299 rows in the Layer 1 Data.\n",
      "After dropping NaN values, there are 88 columns and 8415459 rows in Layer 1 Data.\n",
      "\n",
      "\n"
     ]
    }
   ],
   "source": [
    "# Drop NaN values\n",
    "print('There are {} columns and {} rows in the Layer 1 Data.'.format(len(reflective_atacks.columns), len(reflective_atacks)))\n",
    "reflective_atacks.dropna(axis='index', inplace=True)\n",
    "print('After dropping NaN values, there are {} columns and {} rows in Layer 1 Data.\\n\\n'.format(len(reflective_atacks.columns), len(reflective_atacks)))"
   ]
  },
  {
   "cell_type": "code",
   "execution_count": 10,
   "metadata": {},
   "outputs": [
    {
     "output_type": "execute_result",
     "data": {
      "text/plain": [
       "    Protocol   Flow Duration   Total Fwd Packets   Total Backward Packets  \\\n",
       "0         17               1                   2                        0   \n",
       "1         17               1                   2                        0   \n",
       "2         17               1                   2                        0   \n",
       "3         17               1                   2                        0   \n",
       "4         17               2                   2                        0   \n",
       "\n",
       "   Total Length of Fwd Packets   Total Length of Bwd Packets  \\\n",
       "0                        884.0                           0.0   \n",
       "1                       2346.0                           0.0   \n",
       "2                        942.0                           0.0   \n",
       "3                       1020.0                           0.0   \n",
       "4                       1002.0                           0.0   \n",
       "\n",
       "    Fwd Packet Length Max   Fwd Packet Length Min   Fwd Packet Length Mean  \\\n",
       "0                   442.0                   442.0                    442.0   \n",
       "1                  1173.0                  1173.0                   1173.0   \n",
       "2                   471.0                   471.0                    471.0   \n",
       "3                   510.0                   510.0                    510.0   \n",
       "4                   501.0                   501.0                    501.0   \n",
       "\n",
       "    Fwd Packet Length Std  Bwd Packet Length Max   Bwd Packet Length Min  \\\n",
       "0                     0.0                    0.0                     0.0   \n",
       "1                     0.0                    0.0                     0.0   \n",
       "2                     0.0                    0.0                     0.0   \n",
       "3                     0.0                    0.0                     0.0   \n",
       "4                     0.0                    0.0                     0.0   \n",
       "\n",
       "    Bwd Packet Length Mean   Bwd Packet Length Std  Flow Bytes/s  \\\n",
       "0                      0.0                     0.0  8.840000e+08   \n",
       "1                      0.0                     0.0  2.346000e+09   \n",
       "2                      0.0                     0.0  9.420000e+08   \n",
       "3                      0.0                     0.0  1.020000e+09   \n",
       "4                      0.0                     0.0  5.010000e+08   \n",
       "\n",
       "    Flow Packets/s   Flow IAT Mean   Flow IAT Std   Flow IAT Max  \\\n",
       "0        2000000.0             1.0            0.0            1.0   \n",
       "1        2000000.0             1.0            0.0            1.0   \n",
       "2        2000000.0             1.0            0.0            1.0   \n",
       "3        2000000.0             1.0            0.0            1.0   \n",
       "4        1000000.0             2.0            0.0            2.0   \n",
       "\n",
       "    Flow IAT Min  Fwd IAT Total   Fwd IAT Mean   Fwd IAT Std   Fwd IAT Max  \\\n",
       "0            1.0            1.0            1.0           0.0           1.0   \n",
       "1            1.0            1.0            1.0           0.0           1.0   \n",
       "2            1.0            1.0            1.0           0.0           1.0   \n",
       "3            1.0            1.0            1.0           0.0           1.0   \n",
       "4            2.0            2.0            2.0           0.0           2.0   \n",
       "\n",
       "    Fwd IAT Min  Bwd IAT Total   Bwd IAT Mean   Bwd IAT Std   Bwd IAT Max  \\\n",
       "0           1.0            0.0            0.0           0.0           0.0   \n",
       "1           1.0            0.0            0.0           0.0           0.0   \n",
       "2           1.0            0.0            0.0           0.0           0.0   \n",
       "3           1.0            0.0            0.0           0.0           0.0   \n",
       "4           2.0            0.0            0.0           0.0           0.0   \n",
       "\n",
       "    Bwd IAT Min  Fwd PSH Flags   Bwd PSH Flags   Fwd URG Flags  \\\n",
       "0           0.0              0               0               0   \n",
       "1           0.0              0               0               0   \n",
       "2           0.0              0               0               0   \n",
       "3           0.0              0               0               0   \n",
       "4           0.0              0               0               0   \n",
       "\n",
       "    Bwd URG Flags   Fwd Header Length   Bwd Header Length  Fwd Packets/s  \\\n",
       "0               0                  -2                   0      2000000.0   \n",
       "1               0                  -2                   0      2000000.0   \n",
       "2               0                  -2                   0      2000000.0   \n",
       "3               0                  -2                   0      2000000.0   \n",
       "4               0                  -2                   0      1000000.0   \n",
       "\n",
       "    Bwd Packets/s   Min Packet Length   Max Packet Length  \\\n",
       "0             0.0               442.0               442.0   \n",
       "1             0.0              1173.0              1173.0   \n",
       "2             0.0               471.0               471.0   \n",
       "3             0.0               510.0               510.0   \n",
       "4             0.0               501.0               501.0   \n",
       "\n",
       "    Packet Length Mean   Packet Length Std   Packet Length Variance  \\\n",
       "0                442.0                 0.0                      0.0   \n",
       "1               1173.0                 0.0                      0.0   \n",
       "2                471.0                 0.0                      0.0   \n",
       "3                510.0                 0.0                      0.0   \n",
       "4                501.0                 0.0                      0.0   \n",
       "\n",
       "   FIN Flag Count   SYN Flag Count   RST Flag Count   PSH Flag Count  \\\n",
       "0               0                0                0                0   \n",
       "1               0                0                0                0   \n",
       "2               0                0                0                0   \n",
       "3               0                0                0                0   \n",
       "4               0                0                0                0   \n",
       "\n",
       "    ACK Flag Count   URG Flag Count   CWE Flag Count   ECE Flag Count  \\\n",
       "0                0                0                0                0   \n",
       "1                0                0                0                0   \n",
       "2                0                0                0                0   \n",
       "3                0                0                0                0   \n",
       "4                0                0                0                0   \n",
       "\n",
       "    Down/Up Ratio   Average Packet Size   Avg Fwd Segment Size  \\\n",
       "0             0.0                 663.0                  442.0   \n",
       "1             0.0                1759.5                 1173.0   \n",
       "2             0.0                 706.5                  471.0   \n",
       "3             0.0                 765.0                  510.0   \n",
       "4             0.0                 751.5                  501.0   \n",
       "\n",
       "    Avg Bwd Segment Size   Fwd Header Length.1  Fwd Avg Bytes/Bulk  \\\n",
       "0                    0.0                    -2                   0   \n",
       "1                    0.0                    -2                   0   \n",
       "2                    0.0                    -2                   0   \n",
       "3                    0.0                    -2                   0   \n",
       "4                    0.0                    -2                   0   \n",
       "\n",
       "    Fwd Avg Packets/Bulk   Fwd Avg Bulk Rate   Bwd Avg Bytes/Bulk  \\\n",
       "0                      0                   0                    0   \n",
       "1                      0                   0                    0   \n",
       "2                      0                   0                    0   \n",
       "3                      0                   0                    0   \n",
       "4                      0                   0                    0   \n",
       "\n",
       "    Bwd Avg Packets/Bulk  Bwd Avg Bulk Rate  Subflow Fwd Packets  \\\n",
       "0                      0                  0                    2   \n",
       "1                      0                  0                    2   \n",
       "2                      0                  0                    2   \n",
       "3                      0                  0                    2   \n",
       "4                      0                  0                    2   \n",
       "\n",
       "    Subflow Fwd Bytes   Subflow Bwd Packets   Subflow Bwd Bytes  \\\n",
       "0                 884                     0                   0   \n",
       "1                2346                     0                   0   \n",
       "2                 942                     0                   0   \n",
       "3                1020                     0                   0   \n",
       "4                1002                     0                   0   \n",
       "\n",
       "   Init_Win_bytes_forward   Init_Win_bytes_backward   act_data_pkt_fwd  \\\n",
       "0                      -1                        -1                  1   \n",
       "1                      -1                        -1                  1   \n",
       "2                      -1                        -1                  1   \n",
       "3                      -1                        -1                  1   \n",
       "4                      -1                        -1                  1   \n",
       "\n",
       "    min_seg_size_forward  Active Mean   Active Std   Active Max   Active Min  \\\n",
       "0                     -1          0.0          0.0          0.0          0.0   \n",
       "1                     -1          0.0          0.0          0.0          0.0   \n",
       "2                     -1          0.0          0.0          0.0          0.0   \n",
       "3                     -1          0.0          0.0          0.0          0.0   \n",
       "4                     -1          0.0          0.0          0.0          0.0   \n",
       "\n",
       "   Idle Mean   Idle Std   Idle Max   Idle Min SimillarHTTP   Inbound    Label  \n",
       "0        0.0        0.0        0.0        0.0            0         1  NetBIOS  \n",
       "1        0.0        0.0        0.0        0.0            0         1  NetBIOS  \n",
       "2        0.0        0.0        0.0        0.0            0         1  NetBIOS  \n",
       "3        0.0        0.0        0.0        0.0            0         1  NetBIOS  \n",
       "4        0.0        0.0        0.0        0.0            0         1  NetBIOS  "
      ],
      "text/html": "<div>\n<style scoped>\n    .dataframe tbody tr th:only-of-type {\n        vertical-align: middle;\n    }\n\n    .dataframe tbody tr th {\n        vertical-align: top;\n    }\n\n    .dataframe thead th {\n        text-align: right;\n    }\n</style>\n<table border=\"1\" class=\"dataframe\">\n  <thead>\n    <tr style=\"text-align: right;\">\n      <th></th>\n      <th>Protocol</th>\n      <th>Flow Duration</th>\n      <th>Total Fwd Packets</th>\n      <th>Total Backward Packets</th>\n      <th>Total Length of Fwd Packets</th>\n      <th>Total Length of Bwd Packets</th>\n      <th>Fwd Packet Length Max</th>\n      <th>Fwd Packet Length Min</th>\n      <th>Fwd Packet Length Mean</th>\n      <th>Fwd Packet Length Std</th>\n      <th>Bwd Packet Length Max</th>\n      <th>Bwd Packet Length Min</th>\n      <th>Bwd Packet Length Mean</th>\n      <th>Bwd Packet Length Std</th>\n      <th>Flow Bytes/s</th>\n      <th>Flow Packets/s</th>\n      <th>Flow IAT Mean</th>\n      <th>Flow IAT Std</th>\n      <th>Flow IAT Max</th>\n      <th>Flow IAT Min</th>\n      <th>Fwd IAT Total</th>\n      <th>Fwd IAT Mean</th>\n      <th>Fwd IAT Std</th>\n      <th>Fwd IAT Max</th>\n      <th>Fwd IAT Min</th>\n      <th>Bwd IAT Total</th>\n      <th>Bwd IAT Mean</th>\n      <th>Bwd IAT Std</th>\n      <th>Bwd IAT Max</th>\n      <th>Bwd IAT Min</th>\n      <th>Fwd PSH Flags</th>\n      <th>Bwd PSH Flags</th>\n      <th>Fwd URG Flags</th>\n      <th>Bwd URG Flags</th>\n      <th>Fwd Header Length</th>\n      <th>Bwd Header Length</th>\n      <th>Fwd Packets/s</th>\n      <th>Bwd Packets/s</th>\n      <th>Min Packet Length</th>\n      <th>Max Packet Length</th>\n      <th>Packet Length Mean</th>\n      <th>Packet Length Std</th>\n      <th>Packet Length Variance</th>\n      <th>FIN Flag Count</th>\n      <th>SYN Flag Count</th>\n      <th>RST Flag Count</th>\n      <th>PSH Flag Count</th>\n      <th>ACK Flag Count</th>\n      <th>URG Flag Count</th>\n      <th>CWE Flag Count</th>\n      <th>ECE Flag Count</th>\n      <th>Down/Up Ratio</th>\n      <th>Average Packet Size</th>\n      <th>Avg Fwd Segment Size</th>\n      <th>Avg Bwd Segment Size</th>\n      <th>Fwd Header Length.1</th>\n      <th>Fwd Avg Bytes/Bulk</th>\n      <th>Fwd Avg Packets/Bulk</th>\n      <th>Fwd Avg Bulk Rate</th>\n      <th>Bwd Avg Bytes/Bulk</th>\n      <th>Bwd Avg Packets/Bulk</th>\n      <th>Bwd Avg Bulk Rate</th>\n      <th>Subflow Fwd Packets</th>\n      <th>Subflow Fwd Bytes</th>\n      <th>Subflow Bwd Packets</th>\n      <th>Subflow Bwd Bytes</th>\n      <th>Init_Win_bytes_forward</th>\n      <th>Init_Win_bytes_backward</th>\n      <th>act_data_pkt_fwd</th>\n      <th>min_seg_size_forward</th>\n      <th>Active Mean</th>\n      <th>Active Std</th>\n      <th>Active Max</th>\n      <th>Active Min</th>\n      <th>Idle Mean</th>\n      <th>Idle Std</th>\n      <th>Idle Max</th>\n      <th>Idle Min</th>\n      <th>SimillarHTTP</th>\n      <th>Inbound</th>\n      <th>Label</th>\n    </tr>\n  </thead>\n  <tbody>\n    <tr>\n      <th>0</th>\n      <td>17</td>\n      <td>1</td>\n      <td>2</td>\n      <td>0</td>\n      <td>884.0</td>\n      <td>0.0</td>\n      <td>442.0</td>\n      <td>442.0</td>\n      <td>442.0</td>\n      <td>0.0</td>\n      <td>0.0</td>\n      <td>0.0</td>\n      <td>0.0</td>\n      <td>0.0</td>\n      <td>8.840000e+08</td>\n      <td>2000000.0</td>\n      <td>1.0</td>\n      <td>0.0</td>\n      <td>1.0</td>\n      <td>1.0</td>\n      <td>1.0</td>\n      <td>1.0</td>\n      <td>0.0</td>\n      <td>1.0</td>\n      <td>1.0</td>\n      <td>0.0</td>\n      <td>0.0</td>\n      <td>0.0</td>\n      <td>0.0</td>\n      <td>0.0</td>\n      <td>0</td>\n      <td>0</td>\n      <td>0</td>\n      <td>0</td>\n      <td>-2</td>\n      <td>0</td>\n      <td>2000000.0</td>\n      <td>0.0</td>\n      <td>442.0</td>\n      <td>442.0</td>\n      <td>442.0</td>\n      <td>0.0</td>\n      <td>0.0</td>\n      <td>0</td>\n      <td>0</td>\n      <td>0</td>\n      <td>0</td>\n      <td>0</td>\n      <td>0</td>\n      <td>0</td>\n      <td>0</td>\n      <td>0.0</td>\n      <td>663.0</td>\n      <td>442.0</td>\n      <td>0.0</td>\n      <td>-2</td>\n      <td>0</td>\n      <td>0</td>\n      <td>0</td>\n      <td>0</td>\n      <td>0</td>\n      <td>0</td>\n      <td>2</td>\n      <td>884</td>\n      <td>0</td>\n      <td>0</td>\n      <td>-1</td>\n      <td>-1</td>\n      <td>1</td>\n      <td>-1</td>\n      <td>0.0</td>\n      <td>0.0</td>\n      <td>0.0</td>\n      <td>0.0</td>\n      <td>0.0</td>\n      <td>0.0</td>\n      <td>0.0</td>\n      <td>0.0</td>\n      <td>0</td>\n      <td>1</td>\n      <td>NetBIOS</td>\n    </tr>\n    <tr>\n      <th>1</th>\n      <td>17</td>\n      <td>1</td>\n      <td>2</td>\n      <td>0</td>\n      <td>2346.0</td>\n      <td>0.0</td>\n      <td>1173.0</td>\n      <td>1173.0</td>\n      <td>1173.0</td>\n      <td>0.0</td>\n      <td>0.0</td>\n      <td>0.0</td>\n      <td>0.0</td>\n      <td>0.0</td>\n      <td>2.346000e+09</td>\n      <td>2000000.0</td>\n      <td>1.0</td>\n      <td>0.0</td>\n      <td>1.0</td>\n      <td>1.0</td>\n      <td>1.0</td>\n      <td>1.0</td>\n      <td>0.0</td>\n      <td>1.0</td>\n      <td>1.0</td>\n      <td>0.0</td>\n      <td>0.0</td>\n      <td>0.0</td>\n      <td>0.0</td>\n      <td>0.0</td>\n      <td>0</td>\n      <td>0</td>\n      <td>0</td>\n      <td>0</td>\n      <td>-2</td>\n      <td>0</td>\n      <td>2000000.0</td>\n      <td>0.0</td>\n      <td>1173.0</td>\n      <td>1173.0</td>\n      <td>1173.0</td>\n      <td>0.0</td>\n      <td>0.0</td>\n      <td>0</td>\n      <td>0</td>\n      <td>0</td>\n      <td>0</td>\n      <td>0</td>\n      <td>0</td>\n      <td>0</td>\n      <td>0</td>\n      <td>0.0</td>\n      <td>1759.5</td>\n      <td>1173.0</td>\n      <td>0.0</td>\n      <td>-2</td>\n      <td>0</td>\n      <td>0</td>\n      <td>0</td>\n      <td>0</td>\n      <td>0</td>\n      <td>0</td>\n      <td>2</td>\n      <td>2346</td>\n      <td>0</td>\n      <td>0</td>\n      <td>-1</td>\n      <td>-1</td>\n      <td>1</td>\n      <td>-1</td>\n      <td>0.0</td>\n      <td>0.0</td>\n      <td>0.0</td>\n      <td>0.0</td>\n      <td>0.0</td>\n      <td>0.0</td>\n      <td>0.0</td>\n      <td>0.0</td>\n      <td>0</td>\n      <td>1</td>\n      <td>NetBIOS</td>\n    </tr>\n    <tr>\n      <th>2</th>\n      <td>17</td>\n      <td>1</td>\n      <td>2</td>\n      <td>0</td>\n      <td>942.0</td>\n      <td>0.0</td>\n      <td>471.0</td>\n      <td>471.0</td>\n      <td>471.0</td>\n      <td>0.0</td>\n      <td>0.0</td>\n      <td>0.0</td>\n      <td>0.0</td>\n      <td>0.0</td>\n      <td>9.420000e+08</td>\n      <td>2000000.0</td>\n      <td>1.0</td>\n      <td>0.0</td>\n      <td>1.0</td>\n      <td>1.0</td>\n      <td>1.0</td>\n      <td>1.0</td>\n      <td>0.0</td>\n      <td>1.0</td>\n      <td>1.0</td>\n      <td>0.0</td>\n      <td>0.0</td>\n      <td>0.0</td>\n      <td>0.0</td>\n      <td>0.0</td>\n      <td>0</td>\n      <td>0</td>\n      <td>0</td>\n      <td>0</td>\n      <td>-2</td>\n      <td>0</td>\n      <td>2000000.0</td>\n      <td>0.0</td>\n      <td>471.0</td>\n      <td>471.0</td>\n      <td>471.0</td>\n      <td>0.0</td>\n      <td>0.0</td>\n      <td>0</td>\n      <td>0</td>\n      <td>0</td>\n      <td>0</td>\n      <td>0</td>\n      <td>0</td>\n      <td>0</td>\n      <td>0</td>\n      <td>0.0</td>\n      <td>706.5</td>\n      <td>471.0</td>\n      <td>0.0</td>\n      <td>-2</td>\n      <td>0</td>\n      <td>0</td>\n      <td>0</td>\n      <td>0</td>\n      <td>0</td>\n      <td>0</td>\n      <td>2</td>\n      <td>942</td>\n      <td>0</td>\n      <td>0</td>\n      <td>-1</td>\n      <td>-1</td>\n      <td>1</td>\n      <td>-1</td>\n      <td>0.0</td>\n      <td>0.0</td>\n      <td>0.0</td>\n      <td>0.0</td>\n      <td>0.0</td>\n      <td>0.0</td>\n      <td>0.0</td>\n      <td>0.0</td>\n      <td>0</td>\n      <td>1</td>\n      <td>NetBIOS</td>\n    </tr>\n    <tr>\n      <th>3</th>\n      <td>17</td>\n      <td>1</td>\n      <td>2</td>\n      <td>0</td>\n      <td>1020.0</td>\n      <td>0.0</td>\n      <td>510.0</td>\n      <td>510.0</td>\n      <td>510.0</td>\n      <td>0.0</td>\n      <td>0.0</td>\n      <td>0.0</td>\n      <td>0.0</td>\n      <td>0.0</td>\n      <td>1.020000e+09</td>\n      <td>2000000.0</td>\n      <td>1.0</td>\n      <td>0.0</td>\n      <td>1.0</td>\n      <td>1.0</td>\n      <td>1.0</td>\n      <td>1.0</td>\n      <td>0.0</td>\n      <td>1.0</td>\n      <td>1.0</td>\n      <td>0.0</td>\n      <td>0.0</td>\n      <td>0.0</td>\n      <td>0.0</td>\n      <td>0.0</td>\n      <td>0</td>\n      <td>0</td>\n      <td>0</td>\n      <td>0</td>\n      <td>-2</td>\n      <td>0</td>\n      <td>2000000.0</td>\n      <td>0.0</td>\n      <td>510.0</td>\n      <td>510.0</td>\n      <td>510.0</td>\n      <td>0.0</td>\n      <td>0.0</td>\n      <td>0</td>\n      <td>0</td>\n      <td>0</td>\n      <td>0</td>\n      <td>0</td>\n      <td>0</td>\n      <td>0</td>\n      <td>0</td>\n      <td>0.0</td>\n      <td>765.0</td>\n      <td>510.0</td>\n      <td>0.0</td>\n      <td>-2</td>\n      <td>0</td>\n      <td>0</td>\n      <td>0</td>\n      <td>0</td>\n      <td>0</td>\n      <td>0</td>\n      <td>2</td>\n      <td>1020</td>\n      <td>0</td>\n      <td>0</td>\n      <td>-1</td>\n      <td>-1</td>\n      <td>1</td>\n      <td>-1</td>\n      <td>0.0</td>\n      <td>0.0</td>\n      <td>0.0</td>\n      <td>0.0</td>\n      <td>0.0</td>\n      <td>0.0</td>\n      <td>0.0</td>\n      <td>0.0</td>\n      <td>0</td>\n      <td>1</td>\n      <td>NetBIOS</td>\n    </tr>\n    <tr>\n      <th>4</th>\n      <td>17</td>\n      <td>2</td>\n      <td>2</td>\n      <td>0</td>\n      <td>1002.0</td>\n      <td>0.0</td>\n      <td>501.0</td>\n      <td>501.0</td>\n      <td>501.0</td>\n      <td>0.0</td>\n      <td>0.0</td>\n      <td>0.0</td>\n      <td>0.0</td>\n      <td>0.0</td>\n      <td>5.010000e+08</td>\n      <td>1000000.0</td>\n      <td>2.0</td>\n      <td>0.0</td>\n      <td>2.0</td>\n      <td>2.0</td>\n      <td>2.0</td>\n      <td>2.0</td>\n      <td>0.0</td>\n      <td>2.0</td>\n      <td>2.0</td>\n      <td>0.0</td>\n      <td>0.0</td>\n      <td>0.0</td>\n      <td>0.0</td>\n      <td>0.0</td>\n      <td>0</td>\n      <td>0</td>\n      <td>0</td>\n      <td>0</td>\n      <td>-2</td>\n      <td>0</td>\n      <td>1000000.0</td>\n      <td>0.0</td>\n      <td>501.0</td>\n      <td>501.0</td>\n      <td>501.0</td>\n      <td>0.0</td>\n      <td>0.0</td>\n      <td>0</td>\n      <td>0</td>\n      <td>0</td>\n      <td>0</td>\n      <td>0</td>\n      <td>0</td>\n      <td>0</td>\n      <td>0</td>\n      <td>0.0</td>\n      <td>751.5</td>\n      <td>501.0</td>\n      <td>0.0</td>\n      <td>-2</td>\n      <td>0</td>\n      <td>0</td>\n      <td>0</td>\n      <td>0</td>\n      <td>0</td>\n      <td>0</td>\n      <td>2</td>\n      <td>1002</td>\n      <td>0</td>\n      <td>0</td>\n      <td>-1</td>\n      <td>-1</td>\n      <td>1</td>\n      <td>-1</td>\n      <td>0.0</td>\n      <td>0.0</td>\n      <td>0.0</td>\n      <td>0.0</td>\n      <td>0.0</td>\n      <td>0.0</td>\n      <td>0.0</td>\n      <td>0.0</td>\n      <td>0</td>\n      <td>1</td>\n      <td>NetBIOS</td>\n    </tr>\n  </tbody>\n</table>\n</div>"
     },
     "metadata": {},
     "execution_count": 10
    }
   ],
   "source": [
    "bad_columns = ['Unnamed: 0', ' Source IP', ' Destination IP', ' Source Port', ' Destination Port', ' Timestamp', 'Flow ID']\n",
    "reflective_atacks.drop(labels=bad_columns, axis='columns', inplace=True)\n",
    "pd.set_option('display.max_columns', None)\n"
   ]
  },
  {
   "cell_type": "code",
   "execution_count": 11,
   "metadata": {},
   "outputs": [
    {
     "output_type": "stream",
     "name": "stdout",
     "text": [
      "After dropping overfitting columns: \n\t there are 81 columns and 8415459 rows\n"
     ]
    }
   ],
   "source": [
    "print('After dropping overfitting columns: \\n\\t there are {} columns and {} rows'.format(len(reflective_atacks.columns), len(reflective_atacks)))"
   ]
  },
  {
   "cell_type": "code",
   "execution_count": 12,
   "metadata": {},
   "outputs": [
    {
     "output_type": "execute_result",
     "data": {
      "text/plain": [
       "SSDP       799737\n",
       "LDAP       799365\n",
       "SNMP       799336\n",
       "NetBIOS    799193\n",
       "MSSQL      799030\n",
       "UDP        798929\n",
       "DNS        798051\n",
       "TFTP       788404\n",
       "NTP        786634\n",
       "Syn        699544\n",
       "UDP-lag    330329\n",
       "Portmap    186960\n",
       "BENIGN      29508\n",
       "WebDDoS       439\n",
       "Name:  Label, dtype: int64"
      ]
     },
     "metadata": {},
     "execution_count": 12
    }
   ],
   "source": [
    "reflective_atacks[' Label'].value_counts()"
   ]
  },
  {
   "cell_type": "code",
   "execution_count": null,
   "metadata": {},
   "outputs": [],
   "source": []
  }
 ],
 "metadata": {
  "kernelspec": {
   "name": "python3613jvsc74a57bd0463b433a2349641c799fc127d18d5f77aa9e2d399a0c9f1c2a1694ddbe654e02",
   "display_name": "Python 3.6.13 64-bit ('gpu2': conda)"
  },
  "metadata": {
   "interpreter": {
    "hash": "463b433a2349641c799fc127d18d5f77aa9e2d399a0c9f1c2a1694ddbe654e02"
   }
  }
 },
 "nbformat": 4,
 "nbformat_minor": 5
}