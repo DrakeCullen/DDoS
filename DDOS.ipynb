{
 "cells": [
  {
   "cell_type": "code",
   "execution_count": 1,
   "metadata": {},
   "outputs": [],
   "source": [
    "import pandas as pd\n",
    "import numpy as np\n",
    "import os\n",
    "import io\n",
    "import tensorflow as tf\n",
    "from tensorflow.python.client import device_lib"
   ]
  },
  {
   "cell_type": "code",
   "execution_count": 2,
   "metadata": {},
   "outputs": [],
   "source": [
    "NetBIOS = pd.read_csv('./01-12/DrDoS_NetBIOS.csv', low_memory=False, nrows=500000)\n",
    "DNS = pd.read_csv('./01-12/DrDoS_DNS.csv', low_memory=False, nrows=500000)\n",
    "LDAP = pd.read_csv('./01-12/DrDoS_LDAP.csv', low_memory=False, nrows=500000)\n",
    "Portmap =  pd.read_csv('./03-11/Portmap.csv', low_memory=False, nrows=500000)"
   ]
  },
  {
   "cell_type": "code",
   "execution_count": 3,
   "metadata": {},
   "outputs": [],
   "source": [
    "SNMP = pd.read_csv('./01-12/DrDoS_SNMP.csv', low_memory=False, nrows=500000)\n",
    "SSDP = pd.read_csv('./01-12/DrDoS_SSDP.csv', low_memory=False, nrows=500000)\n",
    "UDP = pd.read_csv('./01-12/DrDoS_UDP.csv', low_memory=False, nrows=500000)\n",
    "SYN = pd.read_csv('./01-12/Syn.csv', low_memory=False, nrows=500000)"
   ]
  },
  {
   "cell_type": "code",
   "execution_count": 4,
   "metadata": {},
   "outputs": [],
   "source": [
    "MSSQL = pd.read_csv('./01-12/DrDoS_MSSQL.csv', low_memory=False, nrows=500000)\n",
    "NTP = pd.read_csv('./01-12/DrDoS_NTP.csv', low_memory=False, nrows=500000)\n",
    "TFTP = pd.read_csv('./01-12/TFTP.csv', low_memory=False, nrows=500000)\n",
    "UDPLag = pd.read_csv('./01-12/UDPLag.csv', low_memory=False, nrows=500000)"
   ]
  },
  {
   "cell_type": "code",
   "execution_count": 5,
   "metadata": {},
   "outputs": [],
   "source": [
    "reflective_atacks = pd.concat([NetBIOS, DNS, LDAP, Portmap, MSSQL, NTP, SNMP, SSDP, UDP, SYN, TFTP, UDPLag])"
   ]
  },
  {
   "cell_type": "code",
   "execution_count": 6,
   "metadata": {},
   "outputs": [],
   "source": [
    "# Rename the types of attacks\n",
    "old_labels = ['DrDoS_SSDP', 'DrDoS_LDAP', 'DrDoS_SNMP', 'DrDoS_NetBIOS', 'DrDoS_MSSQL', 'DrDoS_UDP', 'DrDoS_DNS', 'DrDoS_NTP']\n",
    "new_labels = ['SSDP', 'LDAP', 'SNMP', 'NetBIOS', 'MSSQL', 'UDP', 'DNS', 'NTP']\n",
    "reflective_atacks[' Label'].replace(old_labels, new_labels, inplace=True)"
   ]
  },
  {
   "cell_type": "code",
   "execution_count": 7,
   "metadata": {},
   "outputs": [
    {
     "output_type": "stream",
     "name": "stdout",
     "text": [
      "There are 88 columns and 5562299 rows in the Layer 1 Data.\n",
      "After dropping NaN values, there are 88 columns and 5362052 rows in Layer 1 Data.\n",
      "\n",
      "\n"
     ]
    }
   ],
   "source": [
    "# Drop NaN values\n",
    "print('There are {} columns and {} rows in the Layer 1 Data.'.format(len(reflective_atacks.columns), len(reflective_atacks)))\n",
    "reflective_atacks.dropna(axis='index', inplace=True)\n",
    "reflective_atacks = reflective_atacks[~reflective_atacks.isin([np.nan, np.inf, -np.inf]).any(1)]\n",
    "print('After dropping NaN values, there are {} columns and {} rows in Layer 1 Data.\\n\\n'.format(len(reflective_atacks.columns), len(reflective_atacks)))"
   ]
  },
  {
   "cell_type": "code",
   "execution_count": 8,
   "metadata": {},
   "outputs": [],
   "source": [
    "# Remove overfitting columns (the same ones used in the original paper)\n",
    "bad_columns = ['Unnamed: 0', ' Source IP', ' Destination IP', ' Source Port', ' Destination Port', ' Timestamp', 'SimillarHTTP', 'Flow ID']\n",
    "reflective_atacks.drop(labels=bad_columns, axis='columns', inplace=True)\n",
    "pd.set_option('display.max_columns', None)\n"
   ]
  },
  {
   "cell_type": "code",
   "execution_count": 9,
   "metadata": {},
   "outputs": [
    {
     "output_type": "stream",
     "name": "stdout",
     "text": [
      "After dropping overfitting columns: \n\t there are 80 columns and 5362052 rows\n"
     ]
    }
   ],
   "source": [
    "print('After dropping overfitting columns: \\n\\t there are {} columns and {} rows'.format(len(reflective_atacks.columns), len(reflective_atacks)))"
   ]
  },
  {
   "cell_type": "code",
   "execution_count": 10,
   "metadata": {},
   "outputs": [
    {
     "output_type": "execute_result",
     "data": {
      "text/plain": [
       "SNMP       495288\n",
       "UDP        494790\n",
       "NetBIOS    489519\n",
       "SSDP       489272\n",
       "LDAP       487399\n",
       "TFTP       485474\n",
       "NTP        484073\n",
       "MSSQL      483150\n",
       "DNS        476722\n",
       "Syn        440682\n",
       "UDP-lag    330079\n",
       "Portmap    177197\n",
       "BENIGN      27968\n",
       "WebDDoS       439\n",
       "Name:  Label, dtype: int64"
      ]
     },
     "metadata": {},
     "execution_count": 10
    }
   ],
   "source": [
    "reflective_atacks[' Label'].value_counts()"
   ]
  },
  {
   "cell_type": "code",
   "execution_count": 11,
   "metadata": {},
   "outputs": [],
   "source": [
    "# One hot encoding\n",
    "reflective_atacks = pd.concat([reflective_atacks,pd.get_dummies(reflective_atacks[' Label'])],axis=1)\n",
    "reflective_atacks.drop([' Label'], axis=1, inplace=True)"
   ]
  },
  {
   "cell_type": "code",
   "execution_count": 12,
   "metadata": {},
   "outputs": [
    {
     "output_type": "execute_result",
     "data": {
      "text/plain": [
       "    Protocol   Flow Duration   Total Fwd Packets   Total Backward Packets  \\\n",
       "0         17               1                   2                        0   \n",
       "1         17               1                   2                        0   \n",
       "2         17               1                   2                        0   \n",
       "3         17               1                   2                        0   \n",
       "4         17               2                   2                        0   \n",
       "\n",
       "   Total Length of Fwd Packets   Total Length of Bwd Packets  \\\n",
       "0                        884.0                           0.0   \n",
       "1                       2346.0                           0.0   \n",
       "2                        942.0                           0.0   \n",
       "3                       1020.0                           0.0   \n",
       "4                       1002.0                           0.0   \n",
       "\n",
       "    Fwd Packet Length Max   Fwd Packet Length Min   Fwd Packet Length Mean  \\\n",
       "0                   442.0                   442.0                    442.0   \n",
       "1                  1173.0                  1173.0                   1173.0   \n",
       "2                   471.0                   471.0                    471.0   \n",
       "3                   510.0                   510.0                    510.0   \n",
       "4                   501.0                   501.0                    501.0   \n",
       "\n",
       "    Fwd Packet Length Std  Bwd Packet Length Max   Bwd Packet Length Min  \\\n",
       "0                     0.0                    0.0                     0.0   \n",
       "1                     0.0                    0.0                     0.0   \n",
       "2                     0.0                    0.0                     0.0   \n",
       "3                     0.0                    0.0                     0.0   \n",
       "4                     0.0                    0.0                     0.0   \n",
       "\n",
       "    Bwd Packet Length Mean   Bwd Packet Length Std  Flow Bytes/s  \\\n",
       "0                      0.0                     0.0  8.840000e+08   \n",
       "1                      0.0                     0.0  2.346000e+09   \n",
       "2                      0.0                     0.0  9.420000e+08   \n",
       "3                      0.0                     0.0  1.020000e+09   \n",
       "4                      0.0                     0.0  5.010000e+08   \n",
       "\n",
       "    Flow Packets/s   Flow IAT Mean   Flow IAT Std   Flow IAT Max  \\\n",
       "0        2000000.0             1.0            0.0            1.0   \n",
       "1        2000000.0             1.0            0.0            1.0   \n",
       "2        2000000.0             1.0            0.0            1.0   \n",
       "3        2000000.0             1.0            0.0            1.0   \n",
       "4        1000000.0             2.0            0.0            2.0   \n",
       "\n",
       "    Flow IAT Min  Fwd IAT Total   Fwd IAT Mean   Fwd IAT Std   Fwd IAT Max  \\\n",
       "0            1.0            1.0            1.0           0.0           1.0   \n",
       "1            1.0            1.0            1.0           0.0           1.0   \n",
       "2            1.0            1.0            1.0           0.0           1.0   \n",
       "3            1.0            1.0            1.0           0.0           1.0   \n",
       "4            2.0            2.0            2.0           0.0           2.0   \n",
       "\n",
       "    Fwd IAT Min  Bwd IAT Total   Bwd IAT Mean   Bwd IAT Std   Bwd IAT Max  \\\n",
       "0           1.0            0.0            0.0           0.0           0.0   \n",
       "1           1.0            0.0            0.0           0.0           0.0   \n",
       "2           1.0            0.0            0.0           0.0           0.0   \n",
       "3           1.0            0.0            0.0           0.0           0.0   \n",
       "4           2.0            0.0            0.0           0.0           0.0   \n",
       "\n",
       "    Bwd IAT Min  Fwd PSH Flags   Bwd PSH Flags   Fwd URG Flags  \\\n",
       "0           0.0              0               0               0   \n",
       "1           0.0              0               0               0   \n",
       "2           0.0              0               0               0   \n",
       "3           0.0              0               0               0   \n",
       "4           0.0              0               0               0   \n",
       "\n",
       "    Bwd URG Flags   Fwd Header Length   Bwd Header Length  Fwd Packets/s  \\\n",
       "0               0                  -2                   0      2000000.0   \n",
       "1               0                  -2                   0      2000000.0   \n",
       "2               0                  -2                   0      2000000.0   \n",
       "3               0                  -2                   0      2000000.0   \n",
       "4               0                  -2                   0      1000000.0   \n",
       "\n",
       "    Bwd Packets/s   Min Packet Length   Max Packet Length  \\\n",
       "0             0.0               442.0               442.0   \n",
       "1             0.0              1173.0              1173.0   \n",
       "2             0.0               471.0               471.0   \n",
       "3             0.0               510.0               510.0   \n",
       "4             0.0               501.0               501.0   \n",
       "\n",
       "    Packet Length Mean   Packet Length Std   Packet Length Variance  \\\n",
       "0                442.0                 0.0                      0.0   \n",
       "1               1173.0                 0.0                      0.0   \n",
       "2                471.0                 0.0                      0.0   \n",
       "3                510.0                 0.0                      0.0   \n",
       "4                501.0                 0.0                      0.0   \n",
       "\n",
       "   FIN Flag Count   SYN Flag Count   RST Flag Count   PSH Flag Count  \\\n",
       "0               0                0                0                0   \n",
       "1               0                0                0                0   \n",
       "2               0                0                0                0   \n",
       "3               0                0                0                0   \n",
       "4               0                0                0                0   \n",
       "\n",
       "    ACK Flag Count   URG Flag Count   CWE Flag Count   ECE Flag Count  \\\n",
       "0                0                0                0                0   \n",
       "1                0                0                0                0   \n",
       "2                0                0                0                0   \n",
       "3                0                0                0                0   \n",
       "4                0                0                0                0   \n",
       "\n",
       "    Down/Up Ratio   Average Packet Size   Avg Fwd Segment Size  \\\n",
       "0             0.0                 663.0                  442.0   \n",
       "1             0.0                1759.5                 1173.0   \n",
       "2             0.0                 706.5                  471.0   \n",
       "3             0.0                 765.0                  510.0   \n",
       "4             0.0                 751.5                  501.0   \n",
       "\n",
       "    Avg Bwd Segment Size   Fwd Header Length.1  Fwd Avg Bytes/Bulk  \\\n",
       "0                    0.0                    -2                   0   \n",
       "1                    0.0                    -2                   0   \n",
       "2                    0.0                    -2                   0   \n",
       "3                    0.0                    -2                   0   \n",
       "4                    0.0                    -2                   0   \n",
       "\n",
       "    Fwd Avg Packets/Bulk   Fwd Avg Bulk Rate   Bwd Avg Bytes/Bulk  \\\n",
       "0                      0                   0                    0   \n",
       "1                      0                   0                    0   \n",
       "2                      0                   0                    0   \n",
       "3                      0                   0                    0   \n",
       "4                      0                   0                    0   \n",
       "\n",
       "    Bwd Avg Packets/Bulk  Bwd Avg Bulk Rate  Subflow Fwd Packets  \\\n",
       "0                      0                  0                    2   \n",
       "1                      0                  0                    2   \n",
       "2                      0                  0                    2   \n",
       "3                      0                  0                    2   \n",
       "4                      0                  0                    2   \n",
       "\n",
       "    Subflow Fwd Bytes   Subflow Bwd Packets   Subflow Bwd Bytes  \\\n",
       "0                 884                     0                   0   \n",
       "1                2346                     0                   0   \n",
       "2                 942                     0                   0   \n",
       "3                1020                     0                   0   \n",
       "4                1002                     0                   0   \n",
       "\n",
       "   Init_Win_bytes_forward   Init_Win_bytes_backward   act_data_pkt_fwd  \\\n",
       "0                      -1                        -1                  1   \n",
       "1                      -1                        -1                  1   \n",
       "2                      -1                        -1                  1   \n",
       "3                      -1                        -1                  1   \n",
       "4                      -1                        -1                  1   \n",
       "\n",
       "    min_seg_size_forward  Active Mean   Active Std   Active Max   Active Min  \\\n",
       "0                     -1          0.0          0.0          0.0          0.0   \n",
       "1                     -1          0.0          0.0          0.0          0.0   \n",
       "2                     -1          0.0          0.0          0.0          0.0   \n",
       "3                     -1          0.0          0.0          0.0          0.0   \n",
       "4                     -1          0.0          0.0          0.0          0.0   \n",
       "\n",
       "   Idle Mean   Idle Std   Idle Max   Idle Min   Inbound  BENIGN  DNS  LDAP  \\\n",
       "0        0.0        0.0        0.0        0.0         1       0    0     0   \n",
       "1        0.0        0.0        0.0        0.0         1       0    0     0   \n",
       "2        0.0        0.0        0.0        0.0         1       0    0     0   \n",
       "3        0.0        0.0        0.0        0.0         1       0    0     0   \n",
       "4        0.0        0.0        0.0        0.0         1       0    0     0   \n",
       "\n",
       "   MSSQL  NTP  NetBIOS  Portmap  SNMP  SSDP  Syn  TFTP  UDP  UDP-lag  WebDDoS  \n",
       "0      0    0        1        0     0     0    0     0    0        0        0  \n",
       "1      0    0        1        0     0     0    0     0    0        0        0  \n",
       "2      0    0        1        0     0     0    0     0    0        0        0  \n",
       "3      0    0        1        0     0     0    0     0    0        0        0  \n",
       "4      0    0        1        0     0     0    0     0    0        0        0  "
      ],
      "text/html": "<div>\n<style scoped>\n    .dataframe tbody tr th:only-of-type {\n        vertical-align: middle;\n    }\n\n    .dataframe tbody tr th {\n        vertical-align: top;\n    }\n\n    .dataframe thead th {\n        text-align: right;\n    }\n</style>\n<table border=\"1\" class=\"dataframe\">\n  <thead>\n    <tr style=\"text-align: right;\">\n      <th></th>\n      <th>Protocol</th>\n      <th>Flow Duration</th>\n      <th>Total Fwd Packets</th>\n      <th>Total Backward Packets</th>\n      <th>Total Length of Fwd Packets</th>\n      <th>Total Length of Bwd Packets</th>\n      <th>Fwd Packet Length Max</th>\n      <th>Fwd Packet Length Min</th>\n      <th>Fwd Packet Length Mean</th>\n      <th>Fwd Packet Length Std</th>\n      <th>Bwd Packet Length Max</th>\n      <th>Bwd Packet Length Min</th>\n      <th>Bwd Packet Length Mean</th>\n      <th>Bwd Packet Length Std</th>\n      <th>Flow Bytes/s</th>\n      <th>Flow Packets/s</th>\n      <th>Flow IAT Mean</th>\n      <th>Flow IAT Std</th>\n      <th>Flow IAT Max</th>\n      <th>Flow IAT Min</th>\n      <th>Fwd IAT Total</th>\n      <th>Fwd IAT Mean</th>\n      <th>Fwd IAT Std</th>\n      <th>Fwd IAT Max</th>\n      <th>Fwd IAT Min</th>\n      <th>Bwd IAT Total</th>\n      <th>Bwd IAT Mean</th>\n      <th>Bwd IAT Std</th>\n      <th>Bwd IAT Max</th>\n      <th>Bwd IAT Min</th>\n      <th>Fwd PSH Flags</th>\n      <th>Bwd PSH Flags</th>\n      <th>Fwd URG Flags</th>\n      <th>Bwd URG Flags</th>\n      <th>Fwd Header Length</th>\n      <th>Bwd Header Length</th>\n      <th>Fwd Packets/s</th>\n      <th>Bwd Packets/s</th>\n      <th>Min Packet Length</th>\n      <th>Max Packet Length</th>\n      <th>Packet Length Mean</th>\n      <th>Packet Length Std</th>\n      <th>Packet Length Variance</th>\n      <th>FIN Flag Count</th>\n      <th>SYN Flag Count</th>\n      <th>RST Flag Count</th>\n      <th>PSH Flag Count</th>\n      <th>ACK Flag Count</th>\n      <th>URG Flag Count</th>\n      <th>CWE Flag Count</th>\n      <th>ECE Flag Count</th>\n      <th>Down/Up Ratio</th>\n      <th>Average Packet Size</th>\n      <th>Avg Fwd Segment Size</th>\n      <th>Avg Bwd Segment Size</th>\n      <th>Fwd Header Length.1</th>\n      <th>Fwd Avg Bytes/Bulk</th>\n      <th>Fwd Avg Packets/Bulk</th>\n      <th>Fwd Avg Bulk Rate</th>\n      <th>Bwd Avg Bytes/Bulk</th>\n      <th>Bwd Avg Packets/Bulk</th>\n      <th>Bwd Avg Bulk Rate</th>\n      <th>Subflow Fwd Packets</th>\n      <th>Subflow Fwd Bytes</th>\n      <th>Subflow Bwd Packets</th>\n      <th>Subflow Bwd Bytes</th>\n      <th>Init_Win_bytes_forward</th>\n      <th>Init_Win_bytes_backward</th>\n      <th>act_data_pkt_fwd</th>\n      <th>min_seg_size_forward</th>\n      <th>Active Mean</th>\n      <th>Active Std</th>\n      <th>Active Max</th>\n      <th>Active Min</th>\n      <th>Idle Mean</th>\n      <th>Idle Std</th>\n      <th>Idle Max</th>\n      <th>Idle Min</th>\n      <th>Inbound</th>\n      <th>BENIGN</th>\n      <th>DNS</th>\n      <th>LDAP</th>\n      <th>MSSQL</th>\n      <th>NTP</th>\n      <th>NetBIOS</th>\n      <th>Portmap</th>\n      <th>SNMP</th>\n      <th>SSDP</th>\n      <th>Syn</th>\n      <th>TFTP</th>\n      <th>UDP</th>\n      <th>UDP-lag</th>\n      <th>WebDDoS</th>\n    </tr>\n  </thead>\n  <tbody>\n    <tr>\n      <th>0</th>\n      <td>17</td>\n      <td>1</td>\n      <td>2</td>\n      <td>0</td>\n      <td>884.0</td>\n      <td>0.0</td>\n      <td>442.0</td>\n      <td>442.0</td>\n      <td>442.0</td>\n      <td>0.0</td>\n      <td>0.0</td>\n      <td>0.0</td>\n      <td>0.0</td>\n      <td>0.0</td>\n      <td>8.840000e+08</td>\n      <td>2000000.0</td>\n      <td>1.0</td>\n      <td>0.0</td>\n      <td>1.0</td>\n      <td>1.0</td>\n      <td>1.0</td>\n      <td>1.0</td>\n      <td>0.0</td>\n      <td>1.0</td>\n      <td>1.0</td>\n      <td>0.0</td>\n      <td>0.0</td>\n      <td>0.0</td>\n      <td>0.0</td>\n      <td>0.0</td>\n      <td>0</td>\n      <td>0</td>\n      <td>0</td>\n      <td>0</td>\n      <td>-2</td>\n      <td>0</td>\n      <td>2000000.0</td>\n      <td>0.0</td>\n      <td>442.0</td>\n      <td>442.0</td>\n      <td>442.0</td>\n      <td>0.0</td>\n      <td>0.0</td>\n      <td>0</td>\n      <td>0</td>\n      <td>0</td>\n      <td>0</td>\n      <td>0</td>\n      <td>0</td>\n      <td>0</td>\n      <td>0</td>\n      <td>0.0</td>\n      <td>663.0</td>\n      <td>442.0</td>\n      <td>0.0</td>\n      <td>-2</td>\n      <td>0</td>\n      <td>0</td>\n      <td>0</td>\n      <td>0</td>\n      <td>0</td>\n      <td>0</td>\n      <td>2</td>\n      <td>884</td>\n      <td>0</td>\n      <td>0</td>\n      <td>-1</td>\n      <td>-1</td>\n      <td>1</td>\n      <td>-1</td>\n      <td>0.0</td>\n      <td>0.0</td>\n      <td>0.0</td>\n      <td>0.0</td>\n      <td>0.0</td>\n      <td>0.0</td>\n      <td>0.0</td>\n      <td>0.0</td>\n      <td>1</td>\n      <td>0</td>\n      <td>0</td>\n      <td>0</td>\n      <td>0</td>\n      <td>0</td>\n      <td>1</td>\n      <td>0</td>\n      <td>0</td>\n      <td>0</td>\n      <td>0</td>\n      <td>0</td>\n      <td>0</td>\n      <td>0</td>\n      <td>0</td>\n    </tr>\n    <tr>\n      <th>1</th>\n      <td>17</td>\n      <td>1</td>\n      <td>2</td>\n      <td>0</td>\n      <td>2346.0</td>\n      <td>0.0</td>\n      <td>1173.0</td>\n      <td>1173.0</td>\n      <td>1173.0</td>\n      <td>0.0</td>\n      <td>0.0</td>\n      <td>0.0</td>\n      <td>0.0</td>\n      <td>0.0</td>\n      <td>2.346000e+09</td>\n      <td>2000000.0</td>\n      <td>1.0</td>\n      <td>0.0</td>\n      <td>1.0</td>\n      <td>1.0</td>\n      <td>1.0</td>\n      <td>1.0</td>\n      <td>0.0</td>\n      <td>1.0</td>\n      <td>1.0</td>\n      <td>0.0</td>\n      <td>0.0</td>\n      <td>0.0</td>\n      <td>0.0</td>\n      <td>0.0</td>\n      <td>0</td>\n      <td>0</td>\n      <td>0</td>\n      <td>0</td>\n      <td>-2</td>\n      <td>0</td>\n      <td>2000000.0</td>\n      <td>0.0</td>\n      <td>1173.0</td>\n      <td>1173.0</td>\n      <td>1173.0</td>\n      <td>0.0</td>\n      <td>0.0</td>\n      <td>0</td>\n      <td>0</td>\n      <td>0</td>\n      <td>0</td>\n      <td>0</td>\n      <td>0</td>\n      <td>0</td>\n      <td>0</td>\n      <td>0.0</td>\n      <td>1759.5</td>\n      <td>1173.0</td>\n      <td>0.0</td>\n      <td>-2</td>\n      <td>0</td>\n      <td>0</td>\n      <td>0</td>\n      <td>0</td>\n      <td>0</td>\n      <td>0</td>\n      <td>2</td>\n      <td>2346</td>\n      <td>0</td>\n      <td>0</td>\n      <td>-1</td>\n      <td>-1</td>\n      <td>1</td>\n      <td>-1</td>\n      <td>0.0</td>\n      <td>0.0</td>\n      <td>0.0</td>\n      <td>0.0</td>\n      <td>0.0</td>\n      <td>0.0</td>\n      <td>0.0</td>\n      <td>0.0</td>\n      <td>1</td>\n      <td>0</td>\n      <td>0</td>\n      <td>0</td>\n      <td>0</td>\n      <td>0</td>\n      <td>1</td>\n      <td>0</td>\n      <td>0</td>\n      <td>0</td>\n      <td>0</td>\n      <td>0</td>\n      <td>0</td>\n      <td>0</td>\n      <td>0</td>\n    </tr>\n    <tr>\n      <th>2</th>\n      <td>17</td>\n      <td>1</td>\n      <td>2</td>\n      <td>0</td>\n      <td>942.0</td>\n      <td>0.0</td>\n      <td>471.0</td>\n      <td>471.0</td>\n      <td>471.0</td>\n      <td>0.0</td>\n      <td>0.0</td>\n      <td>0.0</td>\n      <td>0.0</td>\n      <td>0.0</td>\n      <td>9.420000e+08</td>\n      <td>2000000.0</td>\n      <td>1.0</td>\n      <td>0.0</td>\n      <td>1.0</td>\n      <td>1.0</td>\n      <td>1.0</td>\n      <td>1.0</td>\n      <td>0.0</td>\n      <td>1.0</td>\n      <td>1.0</td>\n      <td>0.0</td>\n      <td>0.0</td>\n      <td>0.0</td>\n      <td>0.0</td>\n      <td>0.0</td>\n      <td>0</td>\n      <td>0</td>\n      <td>0</td>\n      <td>0</td>\n      <td>-2</td>\n      <td>0</td>\n      <td>2000000.0</td>\n      <td>0.0</td>\n      <td>471.0</td>\n      <td>471.0</td>\n      <td>471.0</td>\n      <td>0.0</td>\n      <td>0.0</td>\n      <td>0</td>\n      <td>0</td>\n      <td>0</td>\n      <td>0</td>\n      <td>0</td>\n      <td>0</td>\n      <td>0</td>\n      <td>0</td>\n      <td>0.0</td>\n      <td>706.5</td>\n      <td>471.0</td>\n      <td>0.0</td>\n      <td>-2</td>\n      <td>0</td>\n      <td>0</td>\n      <td>0</td>\n      <td>0</td>\n      <td>0</td>\n      <td>0</td>\n      <td>2</td>\n      <td>942</td>\n      <td>0</td>\n      <td>0</td>\n      <td>-1</td>\n      <td>-1</td>\n      <td>1</td>\n      <td>-1</td>\n      <td>0.0</td>\n      <td>0.0</td>\n      <td>0.0</td>\n      <td>0.0</td>\n      <td>0.0</td>\n      <td>0.0</td>\n      <td>0.0</td>\n      <td>0.0</td>\n      <td>1</td>\n      <td>0</td>\n      <td>0</td>\n      <td>0</td>\n      <td>0</td>\n      <td>0</td>\n      <td>1</td>\n      <td>0</td>\n      <td>0</td>\n      <td>0</td>\n      <td>0</td>\n      <td>0</td>\n      <td>0</td>\n      <td>0</td>\n      <td>0</td>\n    </tr>\n    <tr>\n      <th>3</th>\n      <td>17</td>\n      <td>1</td>\n      <td>2</td>\n      <td>0</td>\n      <td>1020.0</td>\n      <td>0.0</td>\n      <td>510.0</td>\n      <td>510.0</td>\n      <td>510.0</td>\n      <td>0.0</td>\n      <td>0.0</td>\n      <td>0.0</td>\n      <td>0.0</td>\n      <td>0.0</td>\n      <td>1.020000e+09</td>\n      <td>2000000.0</td>\n      <td>1.0</td>\n      <td>0.0</td>\n      <td>1.0</td>\n      <td>1.0</td>\n      <td>1.0</td>\n      <td>1.0</td>\n      <td>0.0</td>\n      <td>1.0</td>\n      <td>1.0</td>\n      <td>0.0</td>\n      <td>0.0</td>\n      <td>0.0</td>\n      <td>0.0</td>\n      <td>0.0</td>\n      <td>0</td>\n      <td>0</td>\n      <td>0</td>\n      <td>0</td>\n      <td>-2</td>\n      <td>0</td>\n      <td>2000000.0</td>\n      <td>0.0</td>\n      <td>510.0</td>\n      <td>510.0</td>\n      <td>510.0</td>\n      <td>0.0</td>\n      <td>0.0</td>\n      <td>0</td>\n      <td>0</td>\n      <td>0</td>\n      <td>0</td>\n      <td>0</td>\n      <td>0</td>\n      <td>0</td>\n      <td>0</td>\n      <td>0.0</td>\n      <td>765.0</td>\n      <td>510.0</td>\n      <td>0.0</td>\n      <td>-2</td>\n      <td>0</td>\n      <td>0</td>\n      <td>0</td>\n      <td>0</td>\n      <td>0</td>\n      <td>0</td>\n      <td>2</td>\n      <td>1020</td>\n      <td>0</td>\n      <td>0</td>\n      <td>-1</td>\n      <td>-1</td>\n      <td>1</td>\n      <td>-1</td>\n      <td>0.0</td>\n      <td>0.0</td>\n      <td>0.0</td>\n      <td>0.0</td>\n      <td>0.0</td>\n      <td>0.0</td>\n      <td>0.0</td>\n      <td>0.0</td>\n      <td>1</td>\n      <td>0</td>\n      <td>0</td>\n      <td>0</td>\n      <td>0</td>\n      <td>0</td>\n      <td>1</td>\n      <td>0</td>\n      <td>0</td>\n      <td>0</td>\n      <td>0</td>\n      <td>0</td>\n      <td>0</td>\n      <td>0</td>\n      <td>0</td>\n    </tr>\n    <tr>\n      <th>4</th>\n      <td>17</td>\n      <td>2</td>\n      <td>2</td>\n      <td>0</td>\n      <td>1002.0</td>\n      <td>0.0</td>\n      <td>501.0</td>\n      <td>501.0</td>\n      <td>501.0</td>\n      <td>0.0</td>\n      <td>0.0</td>\n      <td>0.0</td>\n      <td>0.0</td>\n      <td>0.0</td>\n      <td>5.010000e+08</td>\n      <td>1000000.0</td>\n      <td>2.0</td>\n      <td>0.0</td>\n      <td>2.0</td>\n      <td>2.0</td>\n      <td>2.0</td>\n      <td>2.0</td>\n      <td>0.0</td>\n      <td>2.0</td>\n      <td>2.0</td>\n      <td>0.0</td>\n      <td>0.0</td>\n      <td>0.0</td>\n      <td>0.0</td>\n      <td>0.0</td>\n      <td>0</td>\n      <td>0</td>\n      <td>0</td>\n      <td>0</td>\n      <td>-2</td>\n      <td>0</td>\n      <td>1000000.0</td>\n      <td>0.0</td>\n      <td>501.0</td>\n      <td>501.0</td>\n      <td>501.0</td>\n      <td>0.0</td>\n      <td>0.0</td>\n      <td>0</td>\n      <td>0</td>\n      <td>0</td>\n      <td>0</td>\n      <td>0</td>\n      <td>0</td>\n      <td>0</td>\n      <td>0</td>\n      <td>0.0</td>\n      <td>751.5</td>\n      <td>501.0</td>\n      <td>0.0</td>\n      <td>-2</td>\n      <td>0</td>\n      <td>0</td>\n      <td>0</td>\n      <td>0</td>\n      <td>0</td>\n      <td>0</td>\n      <td>2</td>\n      <td>1002</td>\n      <td>0</td>\n      <td>0</td>\n      <td>-1</td>\n      <td>-1</td>\n      <td>1</td>\n      <td>-1</td>\n      <td>0.0</td>\n      <td>0.0</td>\n      <td>0.0</td>\n      <td>0.0</td>\n      <td>0.0</td>\n      <td>0.0</td>\n      <td>0.0</td>\n      <td>0.0</td>\n      <td>1</td>\n      <td>0</td>\n      <td>0</td>\n      <td>0</td>\n      <td>0</td>\n      <td>0</td>\n      <td>1</td>\n      <td>0</td>\n      <td>0</td>\n      <td>0</td>\n      <td>0</td>\n      <td>0</td>\n      <td>0</td>\n      <td>0</td>\n      <td>0</td>\n    </tr>\n  </tbody>\n</table>\n</div>"
     },
     "metadata": {},
     "execution_count": 12
    }
   ],
   "source": [
    "reflective_atacks.head()"
   ]
  },
  {
   "cell_type": "code",
   "execution_count": 13,
   "metadata": {},
   "outputs": [],
   "source": [
    "# Feature Selection\n",
    "from sklearn.preprocessing import MinMaxScaler\n",
    "# Import chi2 function \n",
    "from sklearn.feature_selection import chi2\n",
    "label_start = 80"
   ]
  },
  {
   "cell_type": "code",
   "execution_count": 14,
   "metadata": {},
   "outputs": [],
   "source": [
    "# Split into features (X) and target (Y)\n",
    "reflective_X = reflective_atacks.iloc[:, 0:label_start]\n",
    "reflective_Y = reflective_atacks.iloc[:, label_start:]"
   ]
  },
  {
   "cell_type": "code",
   "execution_count": 15,
   "metadata": {},
   "outputs": [],
   "source": [
    "#reflective_X['SimillarHTTP'] = reflective_X['SimillarHTTP'].apply(pd.to_numeric, errors='coerce')\n",
    "#reflective_X.dropna(axis='index', inplace=True)"
   ]
  },
  {
   "cell_type": "code",
   "execution_count": 16,
   "metadata": {},
   "outputs": [],
   "source": [
    "#import numpy as np\n",
    "#reflective_X = reflective_X[~reflective_X.isin([np.nan, np.inf, -np.inf]).any(1)]\n",
    "#reflective_Y = reflective_Y[~reflective_Y.isin([np.nan, np.inf, -np.inf]).any(1)]"
   ]
  },
  {
   "cell_type": "code",
   "execution_count": 17,
   "metadata": {},
   "outputs": [],
   "source": [
    "# Normalize all the values χ2 doesn't work with negative values\n",
    "scaler = MinMaxScaler()\n",
    "reflective_X = pd.DataFrame( \n",
    "    scaler.fit_transform(reflective_X), \n",
    "    columns=reflective_X.columns \n",
    ")"
   ]
  },
  {
   "cell_type": "code",
   "execution_count": 18,
   "metadata": {},
   "outputs": [],
   "source": [
    "chi_scores = chi2(reflective_X , reflective_Y)\n",
    "\n",
    "# Retrieve the P-Scores for each feature\n",
    "p_vals = pd.Series(chi_scores[1],index = reflective_X.columns)\n",
    "\n",
    "# Sort by lower to higher p-values \n",
    "p_vals.sort_values(ascending=True, inplace=True)\n",
    "\n",
    "#print(p_vals)\n",
    "#print(\"\\t\\t Layer 1 p-values \\t\\t\\t\\t\\t\\t Layer 2 p-values\")\n",
    "# Print all p-values in ascending order based on p-value, if they are >0.5, then mark them as red\n",
    "#red='\\033[31m'\n",
    "#black='\\033[30m'\n",
    "#for i in range(len(p_vals)):\n",
    " #   str1 = \"{}{:<38} = {}\".format(black, p_vals.index[i], float(p_vals[i]))\n",
    "  #  if float(p_vals[i]) > 0.5:\n",
    "   #   str1 = \"{}{:<38} = {}\".format(red, p_vals.index[i], float(p_vals[i]))\n",
    "   # print(\"{} \\t {}| \\t {}\".format(str1, black))"
   ]
  },
  {
   "cell_type": "code",
   "execution_count": 19,
   "metadata": {},
   "outputs": [
    {
     "output_type": "stream",
     "name": "stdout",
     "text": [
      " Protocol                        0.000000e+00\nFwd PSH Flags                    0.000000e+00\n Bwd Packets/s                   0.000000e+00\n Min Packet Length               0.000000e+00\n Max Packet Length               0.000000e+00\n Packet Length Mean              0.000000e+00\n Packet Length Std               0.000000e+00\n RST Flag Count                  0.000000e+00\n ACK Flag Count                  0.000000e+00\n URG Flag Count                  0.000000e+00\n CWE Flag Count                  0.000000e+00\n Down/Up Ratio                   0.000000e+00\n Bwd IAT Min                     0.000000e+00\n Average Packet Size             0.000000e+00\n Avg Bwd Segment Size            0.000000e+00\nSubflow Fwd Packets              0.000000e+00\n Subflow Fwd Bytes               0.000000e+00\nInit_Win_bytes_forward           0.000000e+00\n Init_Win_bytes_backward         0.000000e+00\n act_data_pkt_fwd                0.000000e+00\n min_seg_size_forward            0.000000e+00\nIdle Mean                        0.000000e+00\n Idle Std                        0.000000e+00\n Idle Max                        0.000000e+00\n Idle Min                        0.000000e+00\n Avg Fwd Segment Size            0.000000e+00\n Bwd IAT Max                     0.000000e+00\nFwd Packets/s                    0.000000e+00\n Bwd IAT Mean                    0.000000e+00\n Flow Duration                   0.000000e+00\n Total Fwd Packets               0.000000e+00\nTotal Length of Fwd Packets      0.000000e+00\n Fwd Packet Length Max           0.000000e+00\n Fwd Packet Length Min           0.000000e+00\n Fwd Packet Length Mean          0.000000e+00\n Fwd Packet Length Std           0.000000e+00\n Bwd IAT Std                     0.000000e+00\n Bwd Packet Length Std           0.000000e+00\nFlow Bytes/s                     0.000000e+00\n Flow Packets/s                  0.000000e+00\n Flow IAT Mean                   0.000000e+00\n Flow IAT Std                    0.000000e+00\n Bwd Packet Length Mean          0.000000e+00\nBENIGN                           0.000000e+00\nBwd IAT Total                    0.000000e+00\nFwd IAT Total                    0.000000e+00\n Fwd IAT Mean                    0.000000e+00\n Fwd IAT Std                     0.000000e+00\n Flow IAT Max                    0.000000e+00\n Fwd IAT Max                     0.000000e+00\n Bwd Packet Length Min          1.674542e-166\n Active Max                     1.945799e-140\nBwd Packet Length Max           4.460005e-130\n Active Std                     2.394141e-108\n SYN Flag Count                  9.779844e-49\nActive Mean                      2.131386e-32\n Inbound                         2.308645e-26\n Packet Length Variance          8.310043e-21\n Active Min                      5.857874e-11\n Fwd IAT Min                     2.282024e-06\n Flow IAT Min                    4.050654e-06\n Subflow Bwd Packets             5.307830e-03\n Total Backward Packets          5.307830e-03\n Total Length of Bwd Packets     9.740883e-01\n Subflow Bwd Bytes               9.740883e-01\n Fwd Header Length.1             9.998467e-01\n Fwd Header Length               9.998467e-01\n Bwd Header Length               1.000000e+00\n Bwd PSH Flags                            NaN\n Fwd URG Flags                            NaN\n Bwd URG Flags                            NaN\nFIN Flag Count                            NaN\n PSH Flag Count                           NaN\n ECE Flag Count                           NaN\nFwd Avg Bytes/Bulk                        NaN\n Fwd Avg Packets/Bulk                     NaN\n Fwd Avg Bulk Rate                        NaN\n Bwd Avg Bytes/Bulk                       NaN\n Bwd Avg Packets/Bulk                     NaN\nBwd Avg Bulk Rate                         NaN\ndtype: float64\n"
     ]
    }
   ],
   "source": [
    "pd.set_option('display.max_rows', None)\n",
    "print(p_vals)"
   ]
  },
  {
   "cell_type": "code",
   "execution_count": null,
   "metadata": {},
   "outputs": [],
   "source": []
  }
 ],
 "metadata": {
  "kernelspec": {
   "name": "python3613jvsc74a57bd0463b433a2349641c799fc127d18d5f77aa9e2d399a0c9f1c2a1694ddbe654e02",
   "display_name": "Python 3.6.13 64-bit ('gpu2': conda)"
  },
  "metadata": {
   "interpreter": {
    "hash": "463b433a2349641c799fc127d18d5f77aa9e2d399a0c9f1c2a1694ddbe654e02"
   }
  }
 },
 "nbformat": 4,
 "nbformat_minor": 5
}