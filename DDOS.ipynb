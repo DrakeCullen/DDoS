{
 "cells": [
  {
   "cell_type": "code",
   "execution_count": 1,
   "metadata": {},
   "outputs": [],
   "source": [
    "import pandas as pd\n",
    "import numpy as np\n",
    "import os\n",
    "import io\n",
    "import tensorflow as tf\n",
    "from tensorflow.python.client import device_lib"
   ]
  },
  {
   "cell_type": "code",
   "execution_count": 4,
   "metadata": {},
   "outputs": [],
   "source": [
    "NetBIOS = pd.read_csv('./01-12/DrDoS_NetBIOS.csv', low_memory=False, nrows=50000)\n",
    "DNS = pd.read_csv('./01-12/DrDoS_DNS.csv', low_memory=False, nrows=50000)\n",
    "LDAP = pd.read_csv('./01-12/DrDoS_LDAP.csv', low_memory=False, nrows=50000)\n",
    "Portmap =  pd.read_csv('./03-11/Portmap.csv', low_memory=False, nrows=50000)"
   ]
  },
  {
   "cell_type": "code",
   "execution_count": 5,
   "metadata": {},
   "outputs": [],
   "source": [
    "SNMP = pd.read_csv('./01-12/DrDoS_SNMP.csv', low_memory=False, nrows=50000)\n",
    "SSDP = pd.read_csv('./01-12/DrDoS_SSDP.csv', low_memory=False, nrows=50000)\n",
    "UDP = pd.read_csv('./01-12/DrDoS_UDP.csv', low_memory=False, nrows=50000)\n",
    "SYN = pd.read_csv('./01-12/Syn.csv', low_memory=False, nrows=50000)"
   ]
  },
  {
   "cell_type": "code",
   "execution_count": 6,
   "metadata": {},
   "outputs": [],
   "source": [
    "MSSQL = pd.read_csv('./01-12/DrDoS_MSSQL.csv', low_memory=False, nrows=50000)\n",
    "NTP = pd.read_csv('./01-12/DrDoS_NTP.csv', low_memory=False, nrows=50000)\n",
    "TFTP = pd.read_csv('./01-12/TFTP.csv', low_memory=False, nrows=50000)\n",
    "UDPLag = pd.read_csv('./01-12/UDPLag.csv', low_memory=False, nrows=50000)"
   ]
  },
  {
   "cell_type": "code",
   "execution_count": 7,
   "metadata": {},
   "outputs": [],
   "source": [
    "reflective_atacks = pd.concat([NetBIOS, DNS, LDAP, Portmap, MSSQL, NTP, SNMP, SSDP, UDP, SYN, TFTP, UDPLag])"
   ]
  },
  {
   "cell_type": "code",
   "execution_count": 8,
   "metadata": {},
   "outputs": [],
   "source": [
    "# Rename the types of attacks\n",
    "old_labels = ['DrDoS_SSDP', 'DrDoS_LDAP', 'DrDoS_SNMP', 'DrDoS_NetBIOS', 'DrDoS_MSSQL', 'DrDoS_UDP', 'DrDoS_DNS', 'DrDoS_NTP']\n",
    "new_labels = ['SSDP', 'LDAP', 'SNMP', 'NetBIOS', 'MSSQL', 'UDP', 'DNS', 'NTP']\n",
    "reflective_atacks[' Label'].replace(old_labels, new_labels, inplace=True)"
   ]
  },
  {
   "cell_type": "code",
   "execution_count": 9,
   "metadata": {},
   "outputs": [
    {
     "output_type": "stream",
     "name": "stdout",
     "text": [
      "There are 88 columns and 600000 rows in the Layer 1 Data.\n",
      "After dropping NaN values, there are 88 columns and 579017 rows in Layer 1 Data.\n",
      "\n",
      "\n"
     ]
    }
   ],
   "source": [
    "# Drop NaN values\n",
    "print('There are {} columns and {} rows in the Layer 1 Data.'.format(len(reflective_atacks.columns), len(reflective_atacks)))\n",
    "reflective_atacks.dropna(axis='index', inplace=True)\n",
    "reflective_atacks = reflective_atacks[~reflective_atacks.isin([np.nan, np.inf, -np.inf]).any(1)]\n",
    "print('After dropping NaN values, there are {} columns and {} rows in Layer 1 Data.\\n\\n'.format(len(reflective_atacks.columns), len(reflective_atacks)))"
   ]
  },
  {
   "cell_type": "code",
   "execution_count": 10,
   "metadata": {},
   "outputs": [],
   "source": [
    "# Remove overfitting columns (the same ones used in the original paper)\n",
    "overfitting_columns = ['Unnamed: 0', ' Source IP', ' Destination IP', ' Source Port', ' Destination Port', ' Timestamp', 'SimillarHTTP', 'Flow ID']\n",
    "reflective_atacks.drop(labels=overfitting_columns, axis='columns', inplace=True)\n",
    "pd.set_option('display.max_columns', None)\n"
   ]
  },
  {
   "cell_type": "code",
   "execution_count": 11,
   "metadata": {},
   "outputs": [
    {
     "output_type": "stream",
     "name": "stdout",
     "text": [
      "After dropping overfitting columns: \n\t there are 80 columns and 579017 rows\n"
     ]
    }
   ],
   "source": [
    "print('After dropping overfitting columns: \\n\\t there are {} columns and {} rows'.format(len(reflective_atacks.columns), len(reflective_atacks)))"
   ]
  },
  {
   "cell_type": "code",
   "execution_count": 12,
   "metadata": {},
   "outputs": [
    {
     "output_type": "stream",
     "name": "stdout",
     "text": [
      "After dropping columns with only 0 values: \n\t there are 68 columns and 579017 rows\n"
     ]
    }
   ],
   "source": [
    "# Remove columns with only values of 0\n",
    "useless_columns = [' Bwd PSH Flags', ' Fwd URG Flags', ' Fwd URG Flags', ' Bwd URG Flags', ' Bwd URG Flags', 'FIN Flag Count', ' PSH Flag Count', ' ECE Flag Count', 'Fwd Avg Bytes/Bulk', ' Fwd Avg Packets/Bulk', ' Fwd Avg Bulk Rate', ' Bwd Avg Bytes/Bulk', ' Bwd Avg Packets/Bulk', 'Bwd Avg Bulk Rate']\n",
    "reflective_atacks.drop(labels=useless_columns, axis='columns', inplace=True)\n",
    "print('After dropping columns with only 0 values: \\n\\t there are {} columns and {} rows'.format(len(reflective_atacks.columns), len(reflective_atacks)))"
   ]
  },
  {
   "cell_type": "code",
   "execution_count": 13,
   "metadata": {},
   "outputs": [
    {
     "output_type": "execute_result",
     "data": {
      "text/plain": [
       "SSDP       49762\n",
       "SNMP       49395\n",
       "UDP        49035\n",
       "MSSQL      48931\n",
       "LDAP       48766\n",
       "UDP-lag    48001\n",
       "NetBIOS    46777\n",
       "DNS        46492\n",
       "Syn        45722\n",
       "TFTP       44791\n",
       "Portmap    42596\n",
       "NTP        37375\n",
       "BENIGN     21232\n",
       "WebDDoS      142\n",
       "Name:  Label, dtype: int64"
      ]
     },
     "metadata": {},
     "execution_count": 13
    }
   ],
   "source": [
    "reflective_atacks[' Label'].value_counts()"
   ]
  },
  {
   "cell_type": "code",
   "execution_count": 14,
   "metadata": {},
   "outputs": [],
   "source": [
    "# One hot encoding\n",
    "reflective_atacks = pd.concat([reflective_atacks,pd.get_dummies(reflective_atacks[' Label'])],axis=1)\n",
    "reflective_atacks.drop([' Label'], axis=1, inplace=True)"
   ]
  },
  {
   "cell_type": "code",
   "execution_count": 15,
   "metadata": {},
   "outputs": [
    {
     "output_type": "execute_result",
     "data": {
      "text/plain": [
       "    Protocol   Flow Duration   Total Fwd Packets   Total Backward Packets  \\\n",
       "0         17               1                   2                        0   \n",
       "1         17               1                   2                        0   \n",
       "2         17               1                   2                        0   \n",
       "3         17               1                   2                        0   \n",
       "4         17               2                   2                        0   \n",
       "\n",
       "   Total Length of Fwd Packets   Total Length of Bwd Packets  \\\n",
       "0                        884.0                           0.0   \n",
       "1                       2346.0                           0.0   \n",
       "2                        942.0                           0.0   \n",
       "3                       1020.0                           0.0   \n",
       "4                       1002.0                           0.0   \n",
       "\n",
       "    Fwd Packet Length Max   Fwd Packet Length Min   Fwd Packet Length Mean  \\\n",
       "0                   442.0                   442.0                    442.0   \n",
       "1                  1173.0                  1173.0                   1173.0   \n",
       "2                   471.0                   471.0                    471.0   \n",
       "3                   510.0                   510.0                    510.0   \n",
       "4                   501.0                   501.0                    501.0   \n",
       "\n",
       "    Fwd Packet Length Std  Bwd Packet Length Max   Bwd Packet Length Min  \\\n",
       "0                     0.0                    0.0                     0.0   \n",
       "1                     0.0                    0.0                     0.0   \n",
       "2                     0.0                    0.0                     0.0   \n",
       "3                     0.0                    0.0                     0.0   \n",
       "4                     0.0                    0.0                     0.0   \n",
       "\n",
       "    Bwd Packet Length Mean   Bwd Packet Length Std  Flow Bytes/s  \\\n",
       "0                      0.0                     0.0  8.840000e+08   \n",
       "1                      0.0                     0.0  2.346000e+09   \n",
       "2                      0.0                     0.0  9.420000e+08   \n",
       "3                      0.0                     0.0  1.020000e+09   \n",
       "4                      0.0                     0.0  5.010000e+08   \n",
       "\n",
       "    Flow Packets/s   Flow IAT Mean   Flow IAT Std   Flow IAT Max  \\\n",
       "0        2000000.0             1.0            0.0            1.0   \n",
       "1        2000000.0             1.0            0.0            1.0   \n",
       "2        2000000.0             1.0            0.0            1.0   \n",
       "3        2000000.0             1.0            0.0            1.0   \n",
       "4        1000000.0             2.0            0.0            2.0   \n",
       "\n",
       "    Flow IAT Min  Fwd IAT Total   Fwd IAT Mean   Fwd IAT Std   Fwd IAT Max  \\\n",
       "0            1.0            1.0            1.0           0.0           1.0   \n",
       "1            1.0            1.0            1.0           0.0           1.0   \n",
       "2            1.0            1.0            1.0           0.0           1.0   \n",
       "3            1.0            1.0            1.0           0.0           1.0   \n",
       "4            2.0            2.0            2.0           0.0           2.0   \n",
       "\n",
       "    Fwd IAT Min  Bwd IAT Total   Bwd IAT Mean   Bwd IAT Std   Bwd IAT Max  \\\n",
       "0           1.0            0.0            0.0           0.0           0.0   \n",
       "1           1.0            0.0            0.0           0.0           0.0   \n",
       "2           1.0            0.0            0.0           0.0           0.0   \n",
       "3           1.0            0.0            0.0           0.0           0.0   \n",
       "4           2.0            0.0            0.0           0.0           0.0   \n",
       "\n",
       "    Bwd IAT Min  Fwd PSH Flags   Fwd Header Length   Bwd Header Length  \\\n",
       "0           0.0              0                  -2                   0   \n",
       "1           0.0              0                  -2                   0   \n",
       "2           0.0              0                  -2                   0   \n",
       "3           0.0              0                  -2                   0   \n",
       "4           0.0              0                  -2                   0   \n",
       "\n",
       "   Fwd Packets/s   Bwd Packets/s   Min Packet Length   Max Packet Length  \\\n",
       "0      2000000.0             0.0               442.0               442.0   \n",
       "1      2000000.0             0.0              1173.0              1173.0   \n",
       "2      2000000.0             0.0               471.0               471.0   \n",
       "3      2000000.0             0.0               510.0               510.0   \n",
       "4      1000000.0             0.0               501.0               501.0   \n",
       "\n",
       "    Packet Length Mean   Packet Length Std   Packet Length Variance  \\\n",
       "0                442.0                 0.0                      0.0   \n",
       "1               1173.0                 0.0                      0.0   \n",
       "2                471.0                 0.0                      0.0   \n",
       "3                510.0                 0.0                      0.0   \n",
       "4                501.0                 0.0                      0.0   \n",
       "\n",
       "    SYN Flag Count   RST Flag Count   ACK Flag Count   URG Flag Count  \\\n",
       "0                0                0                0                0   \n",
       "1                0                0                0                0   \n",
       "2                0                0                0                0   \n",
       "3                0                0                0                0   \n",
       "4                0                0                0                0   \n",
       "\n",
       "    CWE Flag Count   Down/Up Ratio   Average Packet Size  \\\n",
       "0                0             0.0                 663.0   \n",
       "1                0             0.0                1759.5   \n",
       "2                0             0.0                 706.5   \n",
       "3                0             0.0                 765.0   \n",
       "4                0             0.0                 751.5   \n",
       "\n",
       "    Avg Fwd Segment Size   Avg Bwd Segment Size   Fwd Header Length.1  \\\n",
       "0                  442.0                    0.0                    -2   \n",
       "1                 1173.0                    0.0                    -2   \n",
       "2                  471.0                    0.0                    -2   \n",
       "3                  510.0                    0.0                    -2   \n",
       "4                  501.0                    0.0                    -2   \n",
       "\n",
       "   Subflow Fwd Packets   Subflow Fwd Bytes   Subflow Bwd Packets  \\\n",
       "0                    2                 884                     0   \n",
       "1                    2                2346                     0   \n",
       "2                    2                 942                     0   \n",
       "3                    2                1020                     0   \n",
       "4                    2                1002                     0   \n",
       "\n",
       "    Subflow Bwd Bytes  Init_Win_bytes_forward   Init_Win_bytes_backward  \\\n",
       "0                   0                      -1                        -1   \n",
       "1                   0                      -1                        -1   \n",
       "2                   0                      -1                        -1   \n",
       "3                   0                      -1                        -1   \n",
       "4                   0                      -1                        -1   \n",
       "\n",
       "    act_data_pkt_fwd   min_seg_size_forward  Active Mean   Active Std  \\\n",
       "0                  1                     -1          0.0          0.0   \n",
       "1                  1                     -1          0.0          0.0   \n",
       "2                  1                     -1          0.0          0.0   \n",
       "3                  1                     -1          0.0          0.0   \n",
       "4                  1                     -1          0.0          0.0   \n",
       "\n",
       "    Active Max   Active Min  Idle Mean   Idle Std   Idle Max   Idle Min  \\\n",
       "0          0.0          0.0        0.0        0.0        0.0        0.0   \n",
       "1          0.0          0.0        0.0        0.0        0.0        0.0   \n",
       "2          0.0          0.0        0.0        0.0        0.0        0.0   \n",
       "3          0.0          0.0        0.0        0.0        0.0        0.0   \n",
       "4          0.0          0.0        0.0        0.0        0.0        0.0   \n",
       "\n",
       "    Inbound  BENIGN  DNS  LDAP  MSSQL  NTP  NetBIOS  Portmap  SNMP  SSDP  Syn  \\\n",
       "0         1       0    0     0      0    0        1        0     0     0    0   \n",
       "1         1       0    0     0      0    0        1        0     0     0    0   \n",
       "2         1       0    0     0      0    0        1        0     0     0    0   \n",
       "3         1       0    0     0      0    0        1        0     0     0    0   \n",
       "4         1       0    0     0      0    0        1        0     0     0    0   \n",
       "\n",
       "   TFTP  UDP  UDP-lag  WebDDoS  \n",
       "0     0    0        0        0  \n",
       "1     0    0        0        0  \n",
       "2     0    0        0        0  \n",
       "3     0    0        0        0  \n",
       "4     0    0        0        0  "
      ],
      "text/html": "<div>\n<style scoped>\n    .dataframe tbody tr th:only-of-type {\n        vertical-align: middle;\n    }\n\n    .dataframe tbody tr th {\n        vertical-align: top;\n    }\n\n    .dataframe thead th {\n        text-align: right;\n    }\n</style>\n<table border=\"1\" class=\"dataframe\">\n  <thead>\n    <tr style=\"text-align: right;\">\n      <th></th>\n      <th>Protocol</th>\n      <th>Flow Duration</th>\n      <th>Total Fwd Packets</th>\n      <th>Total Backward Packets</th>\n      <th>Total Length of Fwd Packets</th>\n      <th>Total Length of Bwd Packets</th>\n      <th>Fwd Packet Length Max</th>\n      <th>Fwd Packet Length Min</th>\n      <th>Fwd Packet Length Mean</th>\n      <th>Fwd Packet Length Std</th>\n      <th>Bwd Packet Length Max</th>\n      <th>Bwd Packet Length Min</th>\n      <th>Bwd Packet Length Mean</th>\n      <th>Bwd Packet Length Std</th>\n      <th>Flow Bytes/s</th>\n      <th>Flow Packets/s</th>\n      <th>Flow IAT Mean</th>\n      <th>Flow IAT Std</th>\n      <th>Flow IAT Max</th>\n      <th>Flow IAT Min</th>\n      <th>Fwd IAT Total</th>\n      <th>Fwd IAT Mean</th>\n      <th>Fwd IAT Std</th>\n      <th>Fwd IAT Max</th>\n      <th>Fwd IAT Min</th>\n      <th>Bwd IAT Total</th>\n      <th>Bwd IAT Mean</th>\n      <th>Bwd IAT Std</th>\n      <th>Bwd IAT Max</th>\n      <th>Bwd IAT Min</th>\n      <th>Fwd PSH Flags</th>\n      <th>Fwd Header Length</th>\n      <th>Bwd Header Length</th>\n      <th>Fwd Packets/s</th>\n      <th>Bwd Packets/s</th>\n      <th>Min Packet Length</th>\n      <th>Max Packet Length</th>\n      <th>Packet Length Mean</th>\n      <th>Packet Length Std</th>\n      <th>Packet Length Variance</th>\n      <th>SYN Flag Count</th>\n      <th>RST Flag Count</th>\n      <th>ACK Flag Count</th>\n      <th>URG Flag Count</th>\n      <th>CWE Flag Count</th>\n      <th>Down/Up Ratio</th>\n      <th>Average Packet Size</th>\n      <th>Avg Fwd Segment Size</th>\n      <th>Avg Bwd Segment Size</th>\n      <th>Fwd Header Length.1</th>\n      <th>Subflow Fwd Packets</th>\n      <th>Subflow Fwd Bytes</th>\n      <th>Subflow Bwd Packets</th>\n      <th>Subflow Bwd Bytes</th>\n      <th>Init_Win_bytes_forward</th>\n      <th>Init_Win_bytes_backward</th>\n      <th>act_data_pkt_fwd</th>\n      <th>min_seg_size_forward</th>\n      <th>Active Mean</th>\n      <th>Active Std</th>\n      <th>Active Max</th>\n      <th>Active Min</th>\n      <th>Idle Mean</th>\n      <th>Idle Std</th>\n      <th>Idle Max</th>\n      <th>Idle Min</th>\n      <th>Inbound</th>\n      <th>BENIGN</th>\n      <th>DNS</th>\n      <th>LDAP</th>\n      <th>MSSQL</th>\n      <th>NTP</th>\n      <th>NetBIOS</th>\n      <th>Portmap</th>\n      <th>SNMP</th>\n      <th>SSDP</th>\n      <th>Syn</th>\n      <th>TFTP</th>\n      <th>UDP</th>\n      <th>UDP-lag</th>\n      <th>WebDDoS</th>\n    </tr>\n  </thead>\n  <tbody>\n    <tr>\n      <th>0</th>\n      <td>17</td>\n      <td>1</td>\n      <td>2</td>\n      <td>0</td>\n      <td>884.0</td>\n      <td>0.0</td>\n      <td>442.0</td>\n      <td>442.0</td>\n      <td>442.0</td>\n      <td>0.0</td>\n      <td>0.0</td>\n      <td>0.0</td>\n      <td>0.0</td>\n      <td>0.0</td>\n      <td>8.840000e+08</td>\n      <td>2000000.0</td>\n      <td>1.0</td>\n      <td>0.0</td>\n      <td>1.0</td>\n      <td>1.0</td>\n      <td>1.0</td>\n      <td>1.0</td>\n      <td>0.0</td>\n      <td>1.0</td>\n      <td>1.0</td>\n      <td>0.0</td>\n      <td>0.0</td>\n      <td>0.0</td>\n      <td>0.0</td>\n      <td>0.0</td>\n      <td>0</td>\n      <td>-2</td>\n      <td>0</td>\n      <td>2000000.0</td>\n      <td>0.0</td>\n      <td>442.0</td>\n      <td>442.0</td>\n      <td>442.0</td>\n      <td>0.0</td>\n      <td>0.0</td>\n      <td>0</td>\n      <td>0</td>\n      <td>0</td>\n      <td>0</td>\n      <td>0</td>\n      <td>0.0</td>\n      <td>663.0</td>\n      <td>442.0</td>\n      <td>0.0</td>\n      <td>-2</td>\n      <td>2</td>\n      <td>884</td>\n      <td>0</td>\n      <td>0</td>\n      <td>-1</td>\n      <td>-1</td>\n      <td>1</td>\n      <td>-1</td>\n      <td>0.0</td>\n      <td>0.0</td>\n      <td>0.0</td>\n      <td>0.0</td>\n      <td>0.0</td>\n      <td>0.0</td>\n      <td>0.0</td>\n      <td>0.0</td>\n      <td>1</td>\n      <td>0</td>\n      <td>0</td>\n      <td>0</td>\n      <td>0</td>\n      <td>0</td>\n      <td>1</td>\n      <td>0</td>\n      <td>0</td>\n      <td>0</td>\n      <td>0</td>\n      <td>0</td>\n      <td>0</td>\n      <td>0</td>\n      <td>0</td>\n    </tr>\n    <tr>\n      <th>1</th>\n      <td>17</td>\n      <td>1</td>\n      <td>2</td>\n      <td>0</td>\n      <td>2346.0</td>\n      <td>0.0</td>\n      <td>1173.0</td>\n      <td>1173.0</td>\n      <td>1173.0</td>\n      <td>0.0</td>\n      <td>0.0</td>\n      <td>0.0</td>\n      <td>0.0</td>\n      <td>0.0</td>\n      <td>2.346000e+09</td>\n      <td>2000000.0</td>\n      <td>1.0</td>\n      <td>0.0</td>\n      <td>1.0</td>\n      <td>1.0</td>\n      <td>1.0</td>\n      <td>1.0</td>\n      <td>0.0</td>\n      <td>1.0</td>\n      <td>1.0</td>\n      <td>0.0</td>\n      <td>0.0</td>\n      <td>0.0</td>\n      <td>0.0</td>\n      <td>0.0</td>\n      <td>0</td>\n      <td>-2</td>\n      <td>0</td>\n      <td>2000000.0</td>\n      <td>0.0</td>\n      <td>1173.0</td>\n      <td>1173.0</td>\n      <td>1173.0</td>\n      <td>0.0</td>\n      <td>0.0</td>\n      <td>0</td>\n      <td>0</td>\n      <td>0</td>\n      <td>0</td>\n      <td>0</td>\n      <td>0.0</td>\n      <td>1759.5</td>\n      <td>1173.0</td>\n      <td>0.0</td>\n      <td>-2</td>\n      <td>2</td>\n      <td>2346</td>\n      <td>0</td>\n      <td>0</td>\n      <td>-1</td>\n      <td>-1</td>\n      <td>1</td>\n      <td>-1</td>\n      <td>0.0</td>\n      <td>0.0</td>\n      <td>0.0</td>\n      <td>0.0</td>\n      <td>0.0</td>\n      <td>0.0</td>\n      <td>0.0</td>\n      <td>0.0</td>\n      <td>1</td>\n      <td>0</td>\n      <td>0</td>\n      <td>0</td>\n      <td>0</td>\n      <td>0</td>\n      <td>1</td>\n      <td>0</td>\n      <td>0</td>\n      <td>0</td>\n      <td>0</td>\n      <td>0</td>\n      <td>0</td>\n      <td>0</td>\n      <td>0</td>\n    </tr>\n    <tr>\n      <th>2</th>\n      <td>17</td>\n      <td>1</td>\n      <td>2</td>\n      <td>0</td>\n      <td>942.0</td>\n      <td>0.0</td>\n      <td>471.0</td>\n      <td>471.0</td>\n      <td>471.0</td>\n      <td>0.0</td>\n      <td>0.0</td>\n      <td>0.0</td>\n      <td>0.0</td>\n      <td>0.0</td>\n      <td>9.420000e+08</td>\n      <td>2000000.0</td>\n      <td>1.0</td>\n      <td>0.0</td>\n      <td>1.0</td>\n      <td>1.0</td>\n      <td>1.0</td>\n      <td>1.0</td>\n      <td>0.0</td>\n      <td>1.0</td>\n      <td>1.0</td>\n      <td>0.0</td>\n      <td>0.0</td>\n      <td>0.0</td>\n      <td>0.0</td>\n      <td>0.0</td>\n      <td>0</td>\n      <td>-2</td>\n      <td>0</td>\n      <td>2000000.0</td>\n      <td>0.0</td>\n      <td>471.0</td>\n      <td>471.0</td>\n      <td>471.0</td>\n      <td>0.0</td>\n      <td>0.0</td>\n      <td>0</td>\n      <td>0</td>\n      <td>0</td>\n      <td>0</td>\n      <td>0</td>\n      <td>0.0</td>\n      <td>706.5</td>\n      <td>471.0</td>\n      <td>0.0</td>\n      <td>-2</td>\n      <td>2</td>\n      <td>942</td>\n      <td>0</td>\n      <td>0</td>\n      <td>-1</td>\n      <td>-1</td>\n      <td>1</td>\n      <td>-1</td>\n      <td>0.0</td>\n      <td>0.0</td>\n      <td>0.0</td>\n      <td>0.0</td>\n      <td>0.0</td>\n      <td>0.0</td>\n      <td>0.0</td>\n      <td>0.0</td>\n      <td>1</td>\n      <td>0</td>\n      <td>0</td>\n      <td>0</td>\n      <td>0</td>\n      <td>0</td>\n      <td>1</td>\n      <td>0</td>\n      <td>0</td>\n      <td>0</td>\n      <td>0</td>\n      <td>0</td>\n      <td>0</td>\n      <td>0</td>\n      <td>0</td>\n    </tr>\n    <tr>\n      <th>3</th>\n      <td>17</td>\n      <td>1</td>\n      <td>2</td>\n      <td>0</td>\n      <td>1020.0</td>\n      <td>0.0</td>\n      <td>510.0</td>\n      <td>510.0</td>\n      <td>510.0</td>\n      <td>0.0</td>\n      <td>0.0</td>\n      <td>0.0</td>\n      <td>0.0</td>\n      <td>0.0</td>\n      <td>1.020000e+09</td>\n      <td>2000000.0</td>\n      <td>1.0</td>\n      <td>0.0</td>\n      <td>1.0</td>\n      <td>1.0</td>\n      <td>1.0</td>\n      <td>1.0</td>\n      <td>0.0</td>\n      <td>1.0</td>\n      <td>1.0</td>\n      <td>0.0</td>\n      <td>0.0</td>\n      <td>0.0</td>\n      <td>0.0</td>\n      <td>0.0</td>\n      <td>0</td>\n      <td>-2</td>\n      <td>0</td>\n      <td>2000000.0</td>\n      <td>0.0</td>\n      <td>510.0</td>\n      <td>510.0</td>\n      <td>510.0</td>\n      <td>0.0</td>\n      <td>0.0</td>\n      <td>0</td>\n      <td>0</td>\n      <td>0</td>\n      <td>0</td>\n      <td>0</td>\n      <td>0.0</td>\n      <td>765.0</td>\n      <td>510.0</td>\n      <td>0.0</td>\n      <td>-2</td>\n      <td>2</td>\n      <td>1020</td>\n      <td>0</td>\n      <td>0</td>\n      <td>-1</td>\n      <td>-1</td>\n      <td>1</td>\n      <td>-1</td>\n      <td>0.0</td>\n      <td>0.0</td>\n      <td>0.0</td>\n      <td>0.0</td>\n      <td>0.0</td>\n      <td>0.0</td>\n      <td>0.0</td>\n      <td>0.0</td>\n      <td>1</td>\n      <td>0</td>\n      <td>0</td>\n      <td>0</td>\n      <td>0</td>\n      <td>0</td>\n      <td>1</td>\n      <td>0</td>\n      <td>0</td>\n      <td>0</td>\n      <td>0</td>\n      <td>0</td>\n      <td>0</td>\n      <td>0</td>\n      <td>0</td>\n    </tr>\n    <tr>\n      <th>4</th>\n      <td>17</td>\n      <td>2</td>\n      <td>2</td>\n      <td>0</td>\n      <td>1002.0</td>\n      <td>0.0</td>\n      <td>501.0</td>\n      <td>501.0</td>\n      <td>501.0</td>\n      <td>0.0</td>\n      <td>0.0</td>\n      <td>0.0</td>\n      <td>0.0</td>\n      <td>0.0</td>\n      <td>5.010000e+08</td>\n      <td>1000000.0</td>\n      <td>2.0</td>\n      <td>0.0</td>\n      <td>2.0</td>\n      <td>2.0</td>\n      <td>2.0</td>\n      <td>2.0</td>\n      <td>0.0</td>\n      <td>2.0</td>\n      <td>2.0</td>\n      <td>0.0</td>\n      <td>0.0</td>\n      <td>0.0</td>\n      <td>0.0</td>\n      <td>0.0</td>\n      <td>0</td>\n      <td>-2</td>\n      <td>0</td>\n      <td>1000000.0</td>\n      <td>0.0</td>\n      <td>501.0</td>\n      <td>501.0</td>\n      <td>501.0</td>\n      <td>0.0</td>\n      <td>0.0</td>\n      <td>0</td>\n      <td>0</td>\n      <td>0</td>\n      <td>0</td>\n      <td>0</td>\n      <td>0.0</td>\n      <td>751.5</td>\n      <td>501.0</td>\n      <td>0.0</td>\n      <td>-2</td>\n      <td>2</td>\n      <td>1002</td>\n      <td>0</td>\n      <td>0</td>\n      <td>-1</td>\n      <td>-1</td>\n      <td>1</td>\n      <td>-1</td>\n      <td>0.0</td>\n      <td>0.0</td>\n      <td>0.0</td>\n      <td>0.0</td>\n      <td>0.0</td>\n      <td>0.0</td>\n      <td>0.0</td>\n      <td>0.0</td>\n      <td>1</td>\n      <td>0</td>\n      <td>0</td>\n      <td>0</td>\n      <td>0</td>\n      <td>0</td>\n      <td>1</td>\n      <td>0</td>\n      <td>0</td>\n      <td>0</td>\n      <td>0</td>\n      <td>0</td>\n      <td>0</td>\n      <td>0</td>\n      <td>0</td>\n    </tr>\n  </tbody>\n</table>\n</div>"
     },
     "metadata": {},
     "execution_count": 15
    }
   ],
   "source": [
    "reflective_atacks.head()"
   ]
  },
  {
   "cell_type": "code",
   "execution_count": 16,
   "metadata": {},
   "outputs": [],
   "source": [
    "# Save new data to a csv file\n",
    "reflective_atacks.to_csv('cleaned_up_data.csv', index=False)"
   ]
  },
  {
   "cell_type": "code",
   "execution_count": 2,
   "metadata": {},
   "outputs": [],
   "source": [
    "reflective_atacks = pd.read_csv('cleaned_up_data.csv')"
   ]
  },
  {
   "cell_type": "code",
   "execution_count": 3,
   "metadata": {},
   "outputs": [],
   "source": [
    "# Feature Selection\n",
    "from sklearn.preprocessing import MinMaxScaler\n",
    "# Import chi2 function \n",
    "from sklearn.feature_selection import chi2\n",
    "label_start = 67"
   ]
  },
  {
   "cell_type": "code",
   "execution_count": 4,
   "metadata": {},
   "outputs": [],
   "source": [
    "# Split into features (X) and target (Y)\n",
    "reflective_X = reflective_atacks.iloc[:, :label_start]\n",
    "reflective_Y = reflective_atacks.iloc[:, label_start:]"
   ]
  },
  {
   "cell_type": "code",
   "execution_count": 5,
   "metadata": {},
   "outputs": [],
   "source": [
    "# Normalize all the values χ2 doesn't work with negative values\n",
    "scaler = MinMaxScaler()\n",
    "reflective_X = pd.DataFrame( \n",
    "    scaler.fit_transform(reflective_X), \n",
    "    columns=reflective_X.columns \n",
    ")"
   ]
  },
  {
   "cell_type": "code",
   "execution_count": 6,
   "metadata": {},
   "outputs": [],
   "source": [
    "chi_scores = chi2(reflective_X , reflective_Y)\n",
    "\n",
    "# Retrieve the P-Scores for each feature\n",
    "p_vals = pd.Series(chi_scores[1],index = reflective_X.columns)\n",
    "\n",
    "# Sort by lower to higher p-values \n",
    "p_vals.sort_values(ascending=True, inplace=True)\n",
    "\n",
    "\n"
   ]
  },
  {
   "cell_type": "code",
   "execution_count": 7,
   "metadata": {},
   "outputs": [
    {
     "output_type": "stream",
     "name": "stdout",
     "text": [
      "\t\t Layer 1 p-values\n\u001b[1;37m Protocol                              = 0.0 \n\u001b[1;37m Bwd IAT Min                           = 0.0 \n\u001b[1;37mFwd PSH Flags                          = 0.0 \n\u001b[1;37m Idle Min                              = 0.0 \n\u001b[1;37m Min Packet Length                     = 0.0 \n\u001b[1;37m Max Packet Length                     = 0.0 \n\u001b[1;37m Packet Length Mean                    = 0.0 \n\u001b[1;37m Packet Length Std                     = 0.0 \n\u001b[1;37m RST Flag Count                        = 0.0 \n\u001b[1;37m ACK Flag Count                        = 0.0 \n\u001b[1;37m URG Flag Count                        = 0.0 \n\u001b[1;37m CWE Flag Count                        = 0.0 \n\u001b[1;37m Down/Up Ratio                         = 0.0 \n\u001b[1;37m Average Packet Size                   = 0.0 \n\u001b[1;37m Avg Fwd Segment Size                  = 0.0 \n\u001b[1;37m Avg Bwd Segment Size                  = 0.0 \n\u001b[1;37m Subflow Fwd Bytes                     = 0.0 \n\u001b[1;37mInit_Win_bytes_forward                 = 0.0 \n\u001b[1;37m Init_Win_bytes_backward               = 0.0 \n\u001b[1;37mActive Mean                            = 0.0 \n\u001b[1;37m Active Min                            = 0.0 \n\u001b[1;37mIdle Mean                              = 0.0 \n\u001b[1;37m Idle Std                              = 0.0 \n\u001b[1;37m Idle Max                              = 0.0 \n\u001b[1;37m Bwd IAT Max                           = 0.0 \n\u001b[1;37m Bwd IAT Std                           = 0.0 \n\u001b[1;37mFwd Packets/s                          = 0.0 \n\u001b[1;37mBwd IAT Total                          = 0.0 \n\u001b[1;37m Flow Duration                         = 0.0 \n\u001b[1;37mTotal Length of Fwd Packets            = 0.0 \n\u001b[1;37m Fwd Packet Length Max                 = 0.0 \n\u001b[1;37m Fwd Packet Length Min                 = 0.0 \n\u001b[1;37m Fwd Packet Length Mean                = 0.0 \n\u001b[1;37m Fwd Packet Length Std                 = 0.0 \n\u001b[1;37mBwd Packet Length Max                  = 0.0 \n\u001b[1;37m Bwd IAT Mean                          = 0.0 \n\u001b[1;37m Bwd Packet Length Mean                = 0.0 \n\u001b[1;37m Bwd Packet Length Std                 = 0.0 \n\u001b[1;37mFlow Bytes/s                           = 0.0 \n\u001b[1;37m Flow Packets/s                        = 0.0 \n\u001b[1;37m Flow IAT Mean                         = 0.0 \n\u001b[1;37m Bwd Packet Length Min                 = 0.0 \n\u001b[1;37m Inbound                               = 0.0 \n\u001b[1;37m Flow IAT Std                          = 0.0 \n\u001b[1;37m Flow IAT Max                          = 0.0 \n\u001b[1;37m Fwd IAT Max                           = 0.0 \n\u001b[1;37mFwd IAT Total                          = 0.0 \n\u001b[1;37m Fwd IAT Mean                          = 0.0 \n\u001b[1;37m Fwd IAT Std                           = 0.0 \n\u001b[1;37m act_data_pkt_fwd                      = 3.02531981935e-262 \n\u001b[1;37m SYN Flag Count                        = 2.867330515700983e-190 \n\u001b[1;37m Packet Length Variance                = 3.7141245282162764e-185 \n\u001b[1;37m Active Max                            = 7.578721252045204e-138 \n\u001b[1;37m Bwd Packets/s                         = 5.5219682227112676e-123 \n\u001b[1;37m Active Std                            = 6.379827209152615e-87 \n\u001b[1;37m min_seg_size_forward                  = 1.1250401811913644e-72 \n\u001b[1;37mSubflow Fwd Packets                    = 2.961139651674271e-37 \n\u001b[1;37m Total Fwd Packets                     = 2.961139651674271e-37 \n\u001b[1;37m Subflow Bwd Packets                   = 5.63227235117671e-20 \n\u001b[1;37m Total Backward Packets                = 5.63227235117671e-20 \n\u001b[1;37m Subflow Bwd Bytes                     = 5.1113370528197926e-17 \n\u001b[1;37m Total Length of Bwd Packets           = 5.1113370528197926e-17 \n\u001b[1;37m Flow IAT Min                          = 4.2374077072323187e-10 \n\u001b[1;37m Fwd IAT Min                           = 1.4788162177330507e-09 \n\u001b[31m Fwd Header Length.1                   = 0.6816063384057127 \n\u001b[31m Fwd Header Length                     = 0.6816063384057127 \n\u001b[31m Bwd Header Length                     = 1.0 \n"
     ]
    }
   ],
   "source": [
    "print(\"\\t\\t Layer 1 p-values\")\n",
    "#Print all p-values in ascending order based on p-value, if they are >0.5, then mark them as red\n",
    "red='\\033[31m'\n",
    "white='\\033[1;37m'\n",
    "for i in range(len(p_vals)):\n",
    "    str1 = \"{}{:<38} = {}\".format(white, p_vals.index[i], float(p_vals[i]))\n",
    "    if float(p_vals[i]) > 0.5:\n",
    "        str1 = \"{}{:<38} = {}\".format(red, p_vals.index[i], float(p_vals[i]))\n",
    "    print(\"{} \".format(str1))"
   ]
  },
  {
   "cell_type": "code",
   "execution_count": 8,
   "metadata": {},
   "outputs": [],
   "source": [
    "# Pearson Correlation\n",
    "import pandas as pd \n",
    "from scipy.stats import pearsonr \n",
    "import matplotlib.pyplot as plt\n",
    "import seaborn as sns"
   ]
  },
  {
   "cell_type": "code",
   "execution_count": null,
   "metadata": {},
   "outputs": [],
   "source": [
    "pd.set_option('display.max_rows', None)\n",
    "reflective_Y = reflective_Y.astype(float)\n",
    "print(reflective_Y.dtypes)"
   ]
  },
  {
   "cell_type": "code",
   "execution_count": 17,
   "metadata": {},
   "outputs": [
    {
     "output_type": "error",
     "ename": "TypeError",
     "evalue": "No loop matching the specified signature and casting was found for ufunc add",
     "traceback": [
      "\u001b[0;31m---------------------------------------------------------------------------\u001b[0m",
      "\u001b[0;31mTypeError\u001b[0m                                 Traceback (most recent call last)",
      "\u001b[0;32m<ipython-input-17-6545c97ea141>\u001b[0m in \u001b[0;36m<module>\u001b[0;34m\u001b[0m\n\u001b[1;32m      1\u001b[0m \u001b[0mpearson_res\u001b[0m \u001b[0;34m=\u001b[0m \u001b[0;34m{\u001b[0m\u001b[0;34m}\u001b[0m\u001b[0;34m\u001b[0m\u001b[0;34m\u001b[0m\u001b[0m\n\u001b[1;32m      2\u001b[0m \u001b[0;32mfor\u001b[0m \u001b[0mi\u001b[0m \u001b[0;32min\u001b[0m \u001b[0mreflective_X\u001b[0m\u001b[0;34m.\u001b[0m\u001b[0mcolumns\u001b[0m\u001b[0;34m[\u001b[0m\u001b[0;34m:\u001b[0m\u001b[0;34m-\u001b[0m\u001b[0;36m1\u001b[0m\u001b[0;34m]\u001b[0m\u001b[0;34m:\u001b[0m\u001b[0;34m\u001b[0m\u001b[0;34m\u001b[0m\u001b[0m\n\u001b[0;32m----> 3\u001b[0;31m   \u001b[0mcorr\u001b[0m\u001b[0;34m,\u001b[0m \u001b[0m_\u001b[0m \u001b[0;34m=\u001b[0m \u001b[0mpearsonr\u001b[0m\u001b[0;34m(\u001b[0m\u001b[0mreflective_X\u001b[0m\u001b[0;34m[\u001b[0m\u001b[0mi\u001b[0m\u001b[0;34m]\u001b[0m\u001b[0;34m,\u001b[0m \u001b[0mreflective_Y\u001b[0m\u001b[0;34m)\u001b[0m\u001b[0;34m\u001b[0m\u001b[0;34m\u001b[0m\u001b[0m\n\u001b[0m\u001b[1;32m      4\u001b[0m   \u001b[0mpearson_res\u001b[0m\u001b[0;34m[\u001b[0m\u001b[0mreflective_X\u001b[0m\u001b[0;34m[\u001b[0m\u001b[0mi\u001b[0m\u001b[0;34m]\u001b[0m\u001b[0;34m.\u001b[0m\u001b[0mname\u001b[0m\u001b[0;34m]\u001b[0m \u001b[0;34m=\u001b[0m \u001b[0mcorr\u001b[0m\u001b[0;34m\u001b[0m\u001b[0;34m\u001b[0m\u001b[0m\n",
      "\u001b[0;32m~/miniconda3/envs/gpu2/lib/python3.6/site-packages/scipy/stats/stats.py\u001b[0m in \u001b[0;36mpearsonr\u001b[0;34m(x, y)\u001b[0m\n\u001b[1;32m   3854\u001b[0m         \u001b[0;32mreturn\u001b[0m \u001b[0mdtype\u001b[0m\u001b[0;34m(\u001b[0m\u001b[0mnp\u001b[0m\u001b[0;34m.\u001b[0m\u001b[0msign\u001b[0m\u001b[0;34m(\u001b[0m\u001b[0mx\u001b[0m\u001b[0;34m[\u001b[0m\u001b[0;36m1\u001b[0m\u001b[0;34m]\u001b[0m \u001b[0;34m-\u001b[0m \u001b[0mx\u001b[0m\u001b[0;34m[\u001b[0m\u001b[0;36m0\u001b[0m\u001b[0;34m]\u001b[0m\u001b[0;34m)\u001b[0m\u001b[0;34m*\u001b[0m\u001b[0mnp\u001b[0m\u001b[0;34m.\u001b[0m\u001b[0msign\u001b[0m\u001b[0;34m(\u001b[0m\u001b[0my\u001b[0m\u001b[0;34m[\u001b[0m\u001b[0;36m1\u001b[0m\u001b[0;34m]\u001b[0m \u001b[0;34m-\u001b[0m \u001b[0my\u001b[0m\u001b[0;34m[\u001b[0m\u001b[0;36m0\u001b[0m\u001b[0;34m]\u001b[0m\u001b[0;34m)\u001b[0m\u001b[0;34m)\u001b[0m\u001b[0;34m,\u001b[0m \u001b[0;36m1.0\u001b[0m\u001b[0;34m\u001b[0m\u001b[0;34m\u001b[0m\u001b[0m\n\u001b[1;32m   3855\u001b[0m \u001b[0;34m\u001b[0m\u001b[0m\n\u001b[0;32m-> 3856\u001b[0;31m     \u001b[0mxmean\u001b[0m \u001b[0;34m=\u001b[0m \u001b[0mx\u001b[0m\u001b[0;34m.\u001b[0m\u001b[0mmean\u001b[0m\u001b[0;34m(\u001b[0m\u001b[0mdtype\u001b[0m\u001b[0;34m=\u001b[0m\u001b[0mdtype\u001b[0m\u001b[0;34m)\u001b[0m\u001b[0;34m\u001b[0m\u001b[0;34m\u001b[0m\u001b[0m\n\u001b[0m\u001b[1;32m   3857\u001b[0m     \u001b[0mymean\u001b[0m \u001b[0;34m=\u001b[0m \u001b[0my\u001b[0m\u001b[0;34m.\u001b[0m\u001b[0mmean\u001b[0m\u001b[0;34m(\u001b[0m\u001b[0mdtype\u001b[0m\u001b[0;34m=\u001b[0m\u001b[0mdtype\u001b[0m\u001b[0;34m)\u001b[0m\u001b[0;34m\u001b[0m\u001b[0;34m\u001b[0m\u001b[0m\n\u001b[1;32m   3858\u001b[0m \u001b[0;34m\u001b[0m\u001b[0m\n",
      "\u001b[0;32m~/miniconda3/envs/gpu2/lib/python3.6/site-packages/numpy/core/_methods.py\u001b[0m in \u001b[0;36m_mean\u001b[0;34m(a, axis, dtype, out, keepdims)\u001b[0m\n\u001b[1;32m    149\u001b[0m             \u001b[0mis_float16_result\u001b[0m \u001b[0;34m=\u001b[0m \u001b[0;32mTrue\u001b[0m\u001b[0;34m\u001b[0m\u001b[0;34m\u001b[0m\u001b[0m\n\u001b[1;32m    150\u001b[0m \u001b[0;34m\u001b[0m\u001b[0m\n\u001b[0;32m--> 151\u001b[0;31m     \u001b[0mret\u001b[0m \u001b[0;34m=\u001b[0m \u001b[0mumr_sum\u001b[0m\u001b[0;34m(\u001b[0m\u001b[0marr\u001b[0m\u001b[0;34m,\u001b[0m \u001b[0maxis\u001b[0m\u001b[0;34m,\u001b[0m \u001b[0mdtype\u001b[0m\u001b[0;34m,\u001b[0m \u001b[0mout\u001b[0m\u001b[0;34m,\u001b[0m \u001b[0mkeepdims\u001b[0m\u001b[0;34m)\u001b[0m\u001b[0;34m\u001b[0m\u001b[0;34m\u001b[0m\u001b[0m\n\u001b[0m\u001b[1;32m    152\u001b[0m     \u001b[0;32mif\u001b[0m \u001b[0misinstance\u001b[0m\u001b[0;34m(\u001b[0m\u001b[0mret\u001b[0m\u001b[0;34m,\u001b[0m \u001b[0mmu\u001b[0m\u001b[0;34m.\u001b[0m\u001b[0mndarray\u001b[0m\u001b[0;34m)\u001b[0m\u001b[0;34m:\u001b[0m\u001b[0;34m\u001b[0m\u001b[0;34m\u001b[0m\u001b[0m\n\u001b[1;32m    153\u001b[0m         ret = um.true_divide(\n",
      "\u001b[0;31mTypeError\u001b[0m: No loop matching the specified signature and casting was found for ufunc add"
     ]
    }
   ],
   "source": [
    "pearson_res = {}\n",
    "for i in reflective_X.columns[:-1]:\n",
    "  corr, _ = pearsonr(reflective_X[i], reflective_Y) \n",
    "  pearson_res[reflective_X[i].name] = corr"
   ]
  },
  {
   "cell_type": "code",
   "execution_count": null,
   "metadata": {},
   "outputs": [],
   "source": [
    "pearson_res = {key: val for key, val in sorted(pearson_res.items(), key = lambda ele: ele[1])}\n",
    "black='\\033[30m'\n",
    "print(\"\\t\\t  Pearson r-values\")\n",
    "for (k_l1,v_l1) in zip(pears_L1_dict.items()):\n",
    "   if v_l1 >= 0:\n",
    "     str1 = \"{}{:<38} =  {:>.5f}\".format(black, k_l1, v_l1)\n",
    "   else:\n",
    "     str1 = \"{}{:<37}  = {:>.5f}\".format(black, k_l1, v_l1)\n",
    "   print(\"{} \\t {}| \\t {}\".format(str1, black))"
   ]
  }
 ],
 "metadata": {
  "kernelspec": {
   "name": "python3613jvsc74a57bd0463b433a2349641c799fc127d18d5f77aa9e2d399a0c9f1c2a1694ddbe654e02",
   "display_name": "Python 3.6.13 64-bit ('gpu2': conda)"
  },
  "metadata": {
   "interpreter": {
    "hash": "463b433a2349641c799fc127d18d5f77aa9e2d399a0c9f1c2a1694ddbe654e02"
   }
  }
 },
 "nbformat": 4,
 "nbformat_minor": 5
}